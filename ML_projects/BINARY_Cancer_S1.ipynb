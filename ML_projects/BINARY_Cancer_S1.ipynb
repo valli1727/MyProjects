{
 "cells": [
  {
   "cell_type": "code",
   "execution_count": 1,
   "id": "9fd1e12f",
   "metadata": {},
   "outputs": [
    {
     "name": "stdout",
     "output_type": "stream",
     "text": [
      "Step 1: imports & config done\n",
      "torch.cuda.is_available(): True\n",
      "Device count: 1\n",
      "GPU name: NVIDIA GeForce RTX 3050 Laptop GPU\n",
      "Using device: cuda\n",
      "Step 2: transforms ready\n",
      "Step 3: dataset loaded, found classes/folders: ['all_benign', 'all_early', 'all_pre', 'all_pro', 'brain_glioma', 'brain_menin', 'brain_tumor', 'breast_benign', 'breast_malignant', 'cervix_dyk', 'cervix_koc', 'cervix_mep', 'cervix_pab', 'cervix_sfi', 'colon_aca', 'colon_bnt', 'kidney_normal', 'kidney_tumor', 'lung_aca', 'lung_bnt', 'lung_scc', 'lymph_cll', 'lymph_fl', 'lymph_mcl', 'oral_normal', 'oral_scc']\n",
      "Total images: 130002\n",
      "Step 4: binary dataset ready, total samples: 130002\n",
      "Class distribution: Counter({1: 90001, 0: 40001})\n",
      "Using weighted loss: tensor([2.4999e-05, 1.1111e-05])\n",
      "Step 5: train/test split done: 104001 train, 26001 test\n",
      "Step 6: DataLoader ready\n",
      "Step 7: Model, optimizer, loss ready\n",
      "\n",
      "Step 8: starting training loop...\n"
     ]
    },
    {
     "name": "stderr",
     "output_type": "stream",
     "text": [
      "Epoch 1/10:  52%|█████▏    | 840/1626 [04:07<03:57,  3.31it/s]"
     ]
    },
    {
     "name": "stdout",
     "output_type": "stream",
     "text": [
      "First batch loading! worker=None\n"
     ]
    },
    {
     "name": "stderr",
     "output_type": "stream",
     "text": [
      "Epoch 1/10: 100%|██████████| 1626/1626 [08:05<00:00,  3.35it/s]\n"
     ]
    },
    {
     "name": "stdout",
     "output_type": "stream",
     "text": [
      "Epoch [1/10] - Loss: 0.3428 - Time: 485.84s - GPU mem: 145.9 MB\n"
     ]
    },
    {
     "name": "stderr",
     "output_type": "stream",
     "text": [
      "Epoch 2/10:  65%|██████▍   | 1051/1626 [05:15<03:01,  3.17it/s]"
     ]
    },
    {
     "name": "stdout",
     "output_type": "stream",
     "text": [
      "First batch loading! worker=None\n"
     ]
    },
    {
     "name": "stderr",
     "output_type": "stream",
     "text": [
      "Epoch 2/10: 100%|██████████| 1626/1626 [08:09<00:00,  3.32it/s]\n"
     ]
    },
    {
     "name": "stdout",
     "output_type": "stream",
     "text": [
      "Epoch [2/10] - Loss: 0.1690 - Time: 489.50s - GPU mem: 145.9 MB\n"
     ]
    },
    {
     "name": "stderr",
     "output_type": "stream",
     "text": [
      "Epoch 3/10:  21%|██▏       | 346/1626 [01:39<06:06,  3.49it/s]"
     ]
    },
    {
     "name": "stdout",
     "output_type": "stream",
     "text": [
      "First batch loading! worker=None\n"
     ]
    },
    {
     "name": "stderr",
     "output_type": "stream",
     "text": [
      "Epoch 3/10: 100%|██████████| 1626/1626 [08:01<00:00,  3.37it/s]\n"
     ]
    },
    {
     "name": "stdout",
     "output_type": "stream",
     "text": [
      "Epoch [3/10] - Loss: 0.1210 - Time: 481.84s - GPU mem: 145.9 MB\n"
     ]
    },
    {
     "name": "stderr",
     "output_type": "stream",
     "text": [
      "Epoch 4/10:  86%|████████▌ | 1399/1626 [06:50<01:06,  3.39it/s]"
     ]
    },
    {
     "name": "stdout",
     "output_type": "stream",
     "text": [
      "First batch loading! worker=None\n"
     ]
    },
    {
     "name": "stderr",
     "output_type": "stream",
     "text": [
      "Epoch 4/10: 100%|██████████| 1626/1626 [07:56<00:00,  3.41it/s]\n"
     ]
    },
    {
     "name": "stdout",
     "output_type": "stream",
     "text": [
      "Epoch [4/10] - Loss: 0.0967 - Time: 477.00s - GPU mem: 145.9 MB\n"
     ]
    },
    {
     "name": "stderr",
     "output_type": "stream",
     "text": [
      "Epoch 5/10:  21%|██▏       | 346/1626 [01:37<06:15,  3.41it/s]"
     ]
    },
    {
     "name": "stdout",
     "output_type": "stream",
     "text": [
      "First batch loading! worker=None\n"
     ]
    },
    {
     "name": "stderr",
     "output_type": "stream",
     "text": [
      "Epoch 5/10: 100%|██████████| 1626/1626 [07:52<00:00,  3.44it/s]\n"
     ]
    },
    {
     "name": "stdout",
     "output_type": "stream",
     "text": [
      "Epoch [5/10] - Loss: 0.0806 - Time: 472.51s - GPU mem: 145.9 MB\n"
     ]
    },
    {
     "name": "stderr",
     "output_type": "stream",
     "text": [
      "Epoch 6/10:  53%|█████▎    | 858/1626 [04:03<03:40,  3.48it/s]"
     ]
    },
    {
     "name": "stdout",
     "output_type": "stream",
     "text": [
      "First batch loading! worker=None\n"
     ]
    },
    {
     "name": "stderr",
     "output_type": "stream",
     "text": [
      "Epoch 6/10: 100%|██████████| 1626/1626 [07:49<00:00,  3.47it/s]\n"
     ]
    },
    {
     "name": "stdout",
     "output_type": "stream",
     "text": [
      "Epoch [6/10] - Loss: 0.0664 - Time: 469.22s - GPU mem: 145.9 MB\n"
     ]
    },
    {
     "name": "stderr",
     "output_type": "stream",
     "text": [
      "Epoch 7/10:  93%|█████████▎| 1518/1626 [07:16<00:31,  3.41it/s]"
     ]
    },
    {
     "name": "stdout",
     "output_type": "stream",
     "text": [
      "First batch loading! worker=None\n"
     ]
    },
    {
     "name": "stderr",
     "output_type": "stream",
     "text": [
      "Epoch 7/10: 100%|██████████| 1626/1626 [07:48<00:00,  3.47it/s]\n"
     ]
    },
    {
     "name": "stdout",
     "output_type": "stream",
     "text": [
      "Epoch [7/10] - Loss: 0.0541 - Time: 468.62s - GPU mem: 145.9 MB\n"
     ]
    },
    {
     "name": "stderr",
     "output_type": "stream",
     "text": [
      "Epoch 8/10:  40%|████      | 652/1626 [03:03<04:33,  3.56it/s]"
     ]
    },
    {
     "name": "stdout",
     "output_type": "stream",
     "text": [
      "First batch loading! worker=None\n"
     ]
    },
    {
     "name": "stderr",
     "output_type": "stream",
     "text": [
      "Epoch 8/10: 100%|██████████| 1626/1626 [07:48<00:00,  3.47it/s]\n"
     ]
    },
    {
     "name": "stdout",
     "output_type": "stream",
     "text": [
      "Epoch [8/10] - Loss: 0.0492 - Time: 468.24s - GPU mem: 145.9 MB\n"
     ]
    },
    {
     "name": "stderr",
     "output_type": "stream",
     "text": [
      "Epoch 9/10:  11%|█▏        | 184/1626 [00:51<06:44,  3.57it/s]"
     ]
    },
    {
     "name": "stdout",
     "output_type": "stream",
     "text": [
      "First batch loading! worker=None\n"
     ]
    },
    {
     "name": "stderr",
     "output_type": "stream",
     "text": [
      "Epoch 9/10: 100%|██████████| 1626/1626 [07:46<00:00,  3.49it/s]\n"
     ]
    },
    {
     "name": "stdout",
     "output_type": "stream",
     "text": [
      "Epoch [9/10] - Loss: 0.0458 - Time: 466.22s - GPU mem: 145.9 MB\n"
     ]
    },
    {
     "name": "stderr",
     "output_type": "stream",
     "text": [
      "Epoch 10/10:  51%|█████     | 829/1626 [03:52<03:49,  3.47it/s]"
     ]
    },
    {
     "name": "stdout",
     "output_type": "stream",
     "text": [
      "First batch loading! worker=None\n"
     ]
    },
    {
     "name": "stderr",
     "output_type": "stream",
     "text": [
      "Epoch 10/10: 100%|██████████| 1626/1626 [07:44<00:00,  3.50it/s]\n"
     ]
    },
    {
     "name": "stdout",
     "output_type": "stream",
     "text": [
      "Epoch [10/10] - Loss: 0.0393 - Time: 464.54s - GPU mem: 145.9 MB\n",
      "Training complete.\n",
      "\n"
     ]
    },
    {
     "name": "stderr",
     "output_type": "stream",
     "text": [
      "Testing: 100%|██████████| 407/407 [01:52<00:00,  3.61it/s]"
     ]
    },
    {
     "name": "stdout",
     "output_type": "stream",
     "text": [
      "\n",
      "Classification Report:\n",
      "               precision    recall  f1-score   support\n",
      "\n",
      "non_cancerous       0.95      0.97      0.96      8131\n",
      "    cancerous       0.98      0.98      0.98     17870\n",
      "\n",
      "     accuracy                           0.97     26001\n",
      "    macro avg       0.97      0.97      0.97     26001\n",
      " weighted avg       0.97      0.97      0.97     26001\n",
      "\n",
      "Confusion Matrix:\n",
      "[[ 7860   271]\n",
      " [  425 17445]]\n",
      "\n",
      "✅ Model saved as binary_cancer_cnn.pth\n"
     ]
    },
    {
     "name": "stderr",
     "output_type": "stream",
     "text": [
      "\n"
     ]
    }
   ],
   "source": [
    "import os\n",
    "import time\n",
    "import torch\n",
    "import torch.nn as nn\n",
    "import torch.optim as optim\n",
    "from torchvision import datasets, transforms\n",
    "from torch.utils.data import DataLoader, Dataset\n",
    "from sklearn.metrics import classification_report, confusion_matrix\n",
    "import numpy as np\n",
    "from tqdm import tqdm\n",
    "from collections import Counter\n",
    "\n",
    "# --- Config ---\n",
    "DATA_DIR = 'kaggle/input/multi-cancer/Multi Cancer/Multi Cancer'  # <-- your dataset folder\n",
    "BATCH_SIZE = 64\n",
    "EPOCHS = 10\n",
    "LEARNING_RATE = 0.001\n",
    "DEVICE = torch.device(\"cuda\" if torch.cuda.is_available() else \"cpu\")\n",
    "torch.backends.cudnn.benchmark = True\n",
    "\n",
    "print(f\"Step 1: imports & config done\")\n",
    "print(f\"torch.cuda.is_available(): {torch.cuda.is_available()}\")\n",
    "if torch.cuda.is_available():\n",
    "    print(f\"Device count: {torch.cuda.device_count()}\")\n",
    "    print(f\"GPU name: {torch.cuda.get_device_name(0)}\")\n",
    "print(f\"Using device: {DEVICE}\")\n",
    "\n",
    "# --- Folders ---\n",
    "cancer_folders = set([\n",
    "    \"all_early\", \"all_pre\", \"all_pro\",\n",
    "    \"brain_glioma\", \"brain_tumor\",\n",
    "    \"breast_malignant\",\n",
    "    \"cervix_dyk\", \"cervix_koc\", \"cervix_mep\", \"cervix_pab\",\n",
    "    \"kidney_tumor\",\n",
    "    \"colon_aca\", \"lung_aca\", \"lung_scc\",\n",
    "    \"lymph_cll\", \"lymph_fl\", \"lymph_mcl\",\n",
    "    \"oral_scc\"\n",
    "])\n",
    "non_cancer_folders = set([\n",
    "    \"all_benign\",\n",
    "    \"brain_menin\",\n",
    "    \"breast_benign\",\n",
    "    \"cervix_sfi\",\n",
    "    \"kidney_normal\",\n",
    "    \"colon_bnt\", \"lung_bnt\",\n",
    "    \"oral_normal\"\n",
    "])\n",
    "\n",
    "# --- Transforms ---\n",
    "transform = transforms.Compose([\n",
    "    transforms.Resize((128,128)),\n",
    "    transforms.ToTensor(),\n",
    "    transforms.Normalize(mean=[0.5,0.5,0.5], std=[0.5,0.5,0.5])\n",
    "])\n",
    "\n",
    "print(\"Step 2: transforms ready\")\n",
    "\n",
    "# --- Load dataset ---\n",
    "base_dataset = datasets.ImageFolder(root=DATA_DIR, transform=transform)\n",
    "print(f\"Step 3: dataset loaded, found classes/folders: {base_dataset.classes}\")\n",
    "print(f\"Total images: {len(base_dataset)}\")\n",
    "\n",
    "# --- Custom wrapper to map to binary labels ---\n",
    "from torch.utils.data import get_worker_info\n",
    "\n",
    "class BinaryCancerDataset(Dataset):\n",
    "    def __init__(self, base_dataset):\n",
    "        self.base_dataset = base_dataset\n",
    "\n",
    "    def __getitem__(self, index):\n",
    "        if index == 0:\n",
    "            print(f\"First batch loading! worker={get_worker_info()}\")\n",
    "        img, orig_label = self.base_dataset[index]\n",
    "        folder_name = self.base_dataset.classes[orig_label]\n",
    "        if folder_name in cancer_folders:\n",
    "            binary_label = 1\n",
    "        elif folder_name in non_cancer_folders:\n",
    "            binary_label = 0\n",
    "        else:\n",
    "            raise ValueError(f\"Unknown folder: {folder_name}\")\n",
    "        return img, binary_label\n",
    "\n",
    "    def __len__(self):\n",
    "        return len(self.base_dataset)\n",
    "\n",
    "binary_dataset = BinaryCancerDataset(base_dataset)\n",
    "print(f\"Step 4: binary dataset ready, total samples: {len(binary_dataset)}\")\n",
    "\n",
    "# --- Count class distribution ---\n",
    "labels = [1 if base_dataset.classes[orig] in cancer_folders else 0 \n",
    "          for _, orig in base_dataset.samples]\n",
    "counts = Counter(labels)\n",
    "print(f\"Class distribution: {counts}\")\n",
    "class_counts = [counts[0], counts[1]]  # [non_cancerous, cancerous]\n",
    "weights = torch.tensor([1.0 / class_counts[0], 1.0 / class_counts[1]])\n",
    "print(f\"Using weighted loss: {weights}\")\n",
    "\n",
    "# --- Split ---\n",
    "train_size = int(0.8 * len(binary_dataset))\n",
    "test_size = len(binary_dataset) - train_size\n",
    "train_ds, test_ds = torch.utils.data.random_split(binary_dataset, [train_size, test_size])\n",
    "print(f\"Step 5: train/test split done: {train_size} train, {test_size} test\")\n",
    "\n",
    "# --- DataLoader with parallel workers ---\n",
    "train_loader = DataLoader(train_ds, batch_size=BATCH_SIZE, shuffle=True,\n",
    "                          num_workers=0, pin_memory=True)\n",
    "test_loader = DataLoader(test_ds, batch_size=BATCH_SIZE, shuffle=False,\n",
    "                         num_workers=0, pin_memory=True)\n",
    "print(\"Step 6: DataLoader ready\")\n",
    "\n",
    "# --- Model ---\n",
    "class CancerCNN(nn.Module):\n",
    "    def __init__(self):\n",
    "        super(CancerCNN, self).__init__()\n",
    "        self.features = nn.Sequential(\n",
    "            nn.Conv2d(3, 32, kernel_size=3, padding=1),\n",
    "            nn.ReLU(),\n",
    "            nn.MaxPool2d(2,2),\n",
    "            nn.Conv2d(32, 64, kernel_size=3, padding=1),\n",
    "            nn.ReLU(),\n",
    "            nn.MaxPool2d(2,2),\n",
    "            nn.Conv2d(64, 128, kernel_size=3, padding=1),\n",
    "            nn.ReLU(),\n",
    "            nn.MaxPool2d(2,2)\n",
    "        )\n",
    "        self.classifier = nn.Sequential(\n",
    "            nn.Linear(128*16*16, 256),\n",
    "            nn.ReLU(),\n",
    "            nn.Dropout(0.5),\n",
    "            nn.Linear(256, 2)\n",
    "        )\n",
    "\n",
    "    def forward(self, x):\n",
    "        x = self.features(x)\n",
    "        x = x.view(x.size(0), -1)\n",
    "        x = self.classifier(x)\n",
    "        return x\n",
    "\n",
    "model = CancerCNN().to(DEVICE)\n",
    "criterion = nn.CrossEntropyLoss(weight=weights.to(DEVICE))\n",
    "optimizer = optim.Adam(model.parameters(), lr=LEARNING_RATE)\n",
    "print(\"Step 7: Model, optimizer, loss ready\")\n",
    "\n",
    "# --- Training loop ---\n",
    "print(\"\\nStep 8: starting training loop...\")\n",
    "for epoch in range(EPOCHS):\n",
    "    model.train()\n",
    "    running_loss = 0.0\n",
    "    t0 = time.time()\n",
    "    for images, labels in tqdm(train_loader, desc=f\"Epoch {epoch+1}/{EPOCHS}\"):\n",
    "        images, labels = images.to(DEVICE, non_blocking=True), labels.to(DEVICE, non_blocking=True)\n",
    "        optimizer.zero_grad()\n",
    "        outputs = model(images)\n",
    "        loss = criterion(outputs, labels)\n",
    "        loss.backward()\n",
    "        optimizer.step()\n",
    "        running_loss += loss.item() * images.size(0)\n",
    "    epoch_loss = running_loss / len(train_loader.dataset)\n",
    "    print(f\"Epoch [{epoch+1}/{EPOCHS}] - Loss: {epoch_loss:.4f} - Time: {time.time()-t0:.2f}s \"\n",
    "          f\"- GPU mem: {torch.cuda.memory_allocated() / (1024**2):.1f} MB\")\n",
    "\n",
    "print(\"Training complete.\\n\")\n",
    "\n",
    "# --- Evaluation ---\n",
    "model.eval()\n",
    "all_preds = []\n",
    "all_labels = []\n",
    "\n",
    "with torch.no_grad():\n",
    "    for images, labels in tqdm(test_loader, desc=\"Testing\"):\n",
    "        images = images.to(DEVICE, non_blocking=True)\n",
    "        outputs = model(images)\n",
    "        _, preds = torch.max(outputs, 1)\n",
    "        all_preds.extend(preds.cpu().numpy())\n",
    "        all_labels.extend(labels.numpy())\n",
    "\n",
    "# --- Report ---\n",
    "target_names = ['non_cancerous', 'cancerous']\n",
    "print(\"\\nClassification Report:\")\n",
    "print(classification_report(all_labels, all_preds, target_names=target_names))\n",
    "print(\"Confusion Matrix:\")\n",
    "print(confusion_matrix(all_labels, all_preds))\n",
    "\n",
    "# --- Save model ---\n",
    "torch.save(model.state_dict(), \"binary_cancer_cnn.pth\")\n",
    "print(\"\\n✅ Model saved as binary_cancer_cnn.pth\")\n"
   ]
  },
  {
   "cell_type": "code",
   "execution_count": 3,
   "id": "9ea17f47",
   "metadata": {},
   "outputs": [
    {
     "data": {
      "image/png": "[encoded data removed]",
      "text/plain": [
       "<Figure size 800x600 with 2 Axes>"
      ]
     },
     "metadata": {},
     "output_type": "display_data"
    }
   ],
   "source": [
    "import seaborn as sns\n",
    "import matplotlib.pyplot as plt\n",
    "\n",
    "# Compute confusion matrix\n",
    "cm = confusion_matrix(all_labels, all_preds)\n",
    "class_names= ['non_cancerous', 'cancerous']\n",
    "# Plot\n",
    "plt.figure(figsize=(8,6))\n",
    "sns.heatmap(cm, annot=True, fmt='d', cmap='Blues',\n",
    "            xticklabels=class_names, yticklabels=class_names)\n",
    "plt.xlabel('Predicted labels')\n",
    "plt.ylabel('True labels')\n",
    "plt.title('Confusion Matrix')\n",
    "plt.show()\n"
   ]
  }
 ],
 "metadata": {
  "kernelspec": {
   "display_name": "Python 3",
   "language": "python",
   "name": "python3"
  },
  "language_info": {
   "codemirror_mode": {
    "name": "ipython",
    "version": 3
   },
   "file_extension": ".py",
   "mimetype": "text/x-python",
   "name": "python",
   "nbconvert_exporter": "python",
   "pygments_lexer": "ipython3",
   "version": "3.12.1"
  }
 },
 "nbformat": 4,
 "nbformat_minor": 5
}
