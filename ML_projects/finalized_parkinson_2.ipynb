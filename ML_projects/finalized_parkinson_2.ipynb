{
  "nbformat": 4,
  "nbformat_minor": 0,
  "metadata": {
    "colab": {
      "provenance": []
    },
    "kernelspec": {
      "name": "python3",
      "display_name": "Python 3"
    },
    "language_info": {
      "name": "python"
    }
  },
  "cells": [
    {
      "cell_type": "code",
      "execution_count": 1,
      "metadata": {
        "id": "AbJJWmZkYIAm"
      },
      "outputs": [],
      "source": [
        "import pandas as pd\n",
        "df=pd.read_csv('/content/my_merge.csv')"
      ]
    },
    {
      "cell_type": "code",
      "source": [
        "df.head()"
      ],
      "metadata": {
        "colab": {
          "base_uri": "https://localhost:8080/",
          "height": 226
        },
        "id": "AhrsXSfKYgPk",
        "outputId": "cdcac91e-d377-4f7c-a804-0ecf567fd906"
      },
      "execution_count": 2,
      "outputs": [
        {
          "output_type": "execute_result",
          "data": {
            "text/plain": [
              "   subject_id  Jitter(%)  Jitter(Abs)  Jitter(RAP)  Jitter(PPQ5)  Jitter:DDP  \\\n",
              "0           1      0.662     0.000034        0.401         0.317       1.204   \n",
              "1           1      0.300     0.000017        0.132         0.150       0.395   \n",
              "2           1      0.481     0.000025        0.205         0.208       0.616   \n",
              "3           1      0.528     0.000027        0.191         0.264       0.573   \n",
              "4           1      0.335     0.000020        0.093         0.130       0.278   \n",
              "\n",
              "   Shimmer(local)  Shimmer(dB)  Shimmer(APQ3)  Shimmer(APQ5)  Shimmer(APQ11)  \\\n",
              "0           2.565        0.230          1.438          1.309           1.662   \n",
              "1           2.024        0.179          0.994          1.072           1.689   \n",
              "2           1.675        0.181          0.734          0.844           1.458   \n",
              "3           2.309        0.327          1.106          1.265           1.963   \n",
              "4           1.703        0.176          0.679          0.929           1.819   \n",
              "\n",
              "   Shimmer(DDA)  Class_info  \n",
              "0         4.314           1  \n",
              "1         2.982           1  \n",
              "2         2.202           1  \n",
              "3         3.317           1  \n",
              "4         2.036           1  "
            ],
            "text/html": [
              "\n",
              "  <div id=\"df-d93048eb-2c39-4473-9d17-248780ad0166\" class=\"colab-df-container\">\n",
              "    <div>\n",
              "<style scoped>\n",
              "    .dataframe tbody tr th:only-of-type {\n",
              "        vertical-align: middle;\n",
              "    }\n",
              "\n",
              "    .dataframe tbody tr th {\n",
              "        vertical-align: top;\n",
              "    }\n",
              "\n",
              "    .dataframe thead th {\n",
              "        text-align: right;\n",
              "    }\n",
              "</style>\n",
              "<table border=\"1\" class=\"dataframe\">\n",
              "  <thead>\n",
              "    <tr style=\"text-align: right;\">\n",
              "      <th></th>\n",
              "      <th>subject_id</th>\n",
              "      <th>Jitter(%)</th>\n",
              "      <th>Jitter(Abs)</th>\n",
              "      <th>Jitter(RAP)</th>\n",
              "      <th>Jitter(PPQ5)</th>\n",
              "      <th>Jitter:DDP</th>\n",
              "      <th>Shimmer(local)</th>\n",
              "      <th>Shimmer(dB)</th>\n",
              "      <th>Shimmer(APQ3)</th>\n",
              "      <th>Shimmer(APQ5)</th>\n",
              "      <th>Shimmer(APQ11)</th>\n",
              "      <th>Shimmer(DDA)</th>\n",
              "      <th>Class_info</th>\n",
              "    </tr>\n",
              "  </thead>\n",
              "  <tbody>\n",
              "    <tr>\n",
              "      <th>0</th>\n",
              "      <td>1</td>\n",
              "      <td>0.662</td>\n",
              "      <td>0.000034</td>\n",
              "      <td>0.401</td>\n",
              "      <td>0.317</td>\n",
              "      <td>1.204</td>\n",
              "      <td>2.565</td>\n",
              "      <td>0.230</td>\n",
              "      <td>1.438</td>\n",
              "      <td>1.309</td>\n",
              "      <td>1.662</td>\n",
              "      <td>4.314</td>\n",
              "      <td>1</td>\n",
              "    </tr>\n",
              "    <tr>\n",
              "      <th>1</th>\n",
              "      <td>1</td>\n",
              "      <td>0.300</td>\n",
              "      <td>0.000017</td>\n",
              "      <td>0.132</td>\n",
              "      <td>0.150</td>\n",
              "      <td>0.395</td>\n",
              "      <td>2.024</td>\n",
              "      <td>0.179</td>\n",
              "      <td>0.994</td>\n",
              "      <td>1.072</td>\n",
              "      <td>1.689</td>\n",
              "      <td>2.982</td>\n",
              "      <td>1</td>\n",
              "    </tr>\n",
              "    <tr>\n",
              "      <th>2</th>\n",
              "      <td>1</td>\n",
              "      <td>0.481</td>\n",
              "      <td>0.000025</td>\n",
              "      <td>0.205</td>\n",
              "      <td>0.208</td>\n",
              "      <td>0.616</td>\n",
              "      <td>1.675</td>\n",
              "      <td>0.181</td>\n",
              "      <td>0.734</td>\n",
              "      <td>0.844</td>\n",
              "      <td>1.458</td>\n",
              "      <td>2.202</td>\n",
              "      <td>1</td>\n",
              "    </tr>\n",
              "    <tr>\n",
              "      <th>3</th>\n",
              "      <td>1</td>\n",
              "      <td>0.528</td>\n",
              "      <td>0.000027</td>\n",
              "      <td>0.191</td>\n",
              "      <td>0.264</td>\n",
              "      <td>0.573</td>\n",
              "      <td>2.309</td>\n",
              "      <td>0.327</td>\n",
              "      <td>1.106</td>\n",
              "      <td>1.265</td>\n",
              "      <td>1.963</td>\n",
              "      <td>3.317</td>\n",
              "      <td>1</td>\n",
              "    </tr>\n",
              "    <tr>\n",
              "      <th>4</th>\n",
              "      <td>1</td>\n",
              "      <td>0.335</td>\n",
              "      <td>0.000020</td>\n",
              "      <td>0.093</td>\n",
              "      <td>0.130</td>\n",
              "      <td>0.278</td>\n",
              "      <td>1.703</td>\n",
              "      <td>0.176</td>\n",
              "      <td>0.679</td>\n",
              "      <td>0.929</td>\n",
              "      <td>1.819</td>\n",
              "      <td>2.036</td>\n",
              "      <td>1</td>\n",
              "    </tr>\n",
              "  </tbody>\n",
              "</table>\n",
              "</div>\n",
              "    <div class=\"colab-df-buttons\">\n",
              "\n",
              "  <div class=\"colab-df-container\">\n",
              "    <button class=\"colab-df-convert\" onclick=\"convertToInteractive('df-d93048eb-2c39-4473-9d17-248780ad0166')\"\n",
              "            title=\"Convert this dataframe to an interactive table.\"\n",
              "            style=\"display:none;\">\n",
              "\n",
              "  <svg xmlns=\"http://www.w3.org/2000/svg\" height=\"24px\" viewBox=\"0 -960 960 960\">\n",
              "    <path d=\"M120-120v-720h720v720H120Zm60-500h600v-160H180v160Zm220 220h160v-160H400v160Zm0 220h160v-160H400v160ZM180-400h160v-160H180v160Zm440 0h160v-160H620v160ZM180-180h160v-160H180v160Zm440 0h160v-160H620v160Z\"/>\n",
              "  </svg>\n",
              "    </button>\n",
              "\n",
              "  <style>\n",
              "    .colab-df-container {\n",
              "      display:flex;\n",
              "      gap: 12px;\n",
              "    }\n",
              "\n",
              "    .colab-df-convert {\n",
              "      background-color: #E8F0FE;\n",
              "      border: none;\n",
              "      border-radius: 50%;\n",
              "      cursor: pointer;\n",
              "      display: none;\n",
              "      fill: #1967D2;\n",
              "      height: 32px;\n",
              "      padding: 0 0 0 0;\n",
              "      width: 32px;\n",
              "    }\n",
              "\n",
              "    .colab-df-convert:hover {\n",
              "      background-color: #E2EBFA;\n",
              "      box-shadow: 0px 1px 2px rgba(60, 64, 67, 0.3), 0px 1px 3px 1px rgba(60, 64, 67, 0.15);\n",
              "      fill: #174EA6;\n",
              "    }\n",
              "\n",
              "    .colab-df-buttons div {\n",
              "      margin-bottom: 4px;\n",
              "    }\n",
              "\n",
              "    [theme=dark] .colab-df-convert {\n",
              "      background-color: #3B4455;\n",
              "      fill: #D2E3FC;\n",
              "    }\n",
              "\n",
              "    [theme=dark] .colab-df-convert:hover {\n",
              "      background-color: #434B5C;\n",
              "      box-shadow: 0px 1px 3px 1px rgba(0, 0, 0, 0.15);\n",
              "      filter: drop-shadow(0px 1px 2px rgba(0, 0, 0, 0.3));\n",
              "      fill: #FFFFFF;\n",
              "    }\n",
              "  </style>\n",
              "\n",
              "    <script>\n",
              "      const buttonEl =\n",
              "        document.querySelector('#df-d93048eb-2c39-4473-9d17-248780ad0166 button.colab-df-convert');\n",
              "      buttonEl.style.display =\n",
              "        google.colab.kernel.accessAllowed ? 'block' : 'none';\n",
              "\n",
              "      async function convertToInteractive(key) {\n",
              "        const element = document.querySelector('#df-d93048eb-2c39-4473-9d17-248780ad0166');\n",
              "        const dataTable =\n",
              "          await google.colab.kernel.invokeFunction('convertToInteractive',\n",
              "                                                    [key], {});\n",
              "        if (!dataTable) return;\n",
              "\n",
              "        const docLinkHtml = 'Like what you see? Visit the ' +\n",
              "          '<a target=\"_blank\" href=https://colab.research.google.com/notebooks/data_table.ipynb>data table notebook</a>'\n",
              "          + ' to learn more about interactive tables.';\n",
              "        element.innerHTML = '';\n",
              "        dataTable['output_type'] = 'display_data';\n",
              "        await google.colab.output.renderOutput(dataTable, element);\n",
              "        const docLink = document.createElement('div');\n",
              "        docLink.innerHTML = docLinkHtml;\n",
              "        element.appendChild(docLink);\n",
              "      }\n",
              "    </script>\n",
              "  </div>\n",
              "\n",
              "\n",
              "<div id=\"df-7c0880f4-1a7d-4a79-b972-cff65f237f15\">\n",
              "  <button class=\"colab-df-quickchart\" onclick=\"quickchart('df-7c0880f4-1a7d-4a79-b972-cff65f237f15')\"\n",
              "            title=\"Suggest charts\"\n",
              "            style=\"display:none;\">\n",
              "\n",
              "<svg xmlns=\"http://www.w3.org/2000/svg\" height=\"24px\"viewBox=\"0 0 24 24\"\n",
              "     width=\"24px\">\n",
              "    <g>\n",
              "        <path d=\"M19 3H5c-1.1 0-2 .9-2 2v14c0 1.1.9 2 2 2h14c1.1 0 2-.9 2-2V5c0-1.1-.9-2-2-2zM9 17H7v-7h2v7zm4 0h-2V7h2v10zm4 0h-2v-4h2v4z\"/>\n",
              "    </g>\n",
              "</svg>\n",
              "  </button>\n",
              "\n",
              "<style>\n",
              "  .colab-df-quickchart {\n",
              "      --bg-color: #E8F0FE;\n",
              "      --fill-color: #1967D2;\n",
              "      --hover-bg-color: #E2EBFA;\n",
              "      --hover-fill-color: #174EA6;\n",
              "      --disabled-fill-color: #AAA;\n",
              "      --disabled-bg-color: #DDD;\n",
              "  }\n",
              "\n",
              "  [theme=dark] .colab-df-quickchart {\n",
              "      --bg-color: #3B4455;\n",
              "      --fill-color: #D2E3FC;\n",
              "      --hover-bg-color: #434B5C;\n",
              "      --hover-fill-color: #FFFFFF;\n",
              "      --disabled-bg-color: #3B4455;\n",
              "      --disabled-fill-color: #666;\n",
              "  }\n",
              "\n",
              "  .colab-df-quickchart {\n",
              "    background-color: var(--bg-color);\n",
              "    border: none;\n",
              "    border-radius: 50%;\n",
              "    cursor: pointer;\n",
              "    display: none;\n",
              "    fill: var(--fill-color);\n",
              "    height: 32px;\n",
              "    padding: 0;\n",
              "    width: 32px;\n",
              "  }\n",
              "\n",
              "  .colab-df-quickchart:hover {\n",
              "    background-color: var(--hover-bg-color);\n",
              "    box-shadow: 0 1px 2px rgba(60, 64, 67, 0.3), 0 1px 3px 1px rgba(60, 64, 67, 0.15);\n",
              "    fill: var(--button-hover-fill-color);\n",
              "  }\n",
              "\n",
              "  .colab-df-quickchart-complete:disabled,\n",
              "  .colab-df-quickchart-complete:disabled:hover {\n",
              "    background-color: var(--disabled-bg-color);\n",
              "    fill: var(--disabled-fill-color);\n",
              "    box-shadow: none;\n",
              "  }\n",
              "\n",
              "  .colab-df-spinner {\n",
              "    border: 2px solid var(--fill-color);\n",
              "    border-color: transparent;\n",
              "    border-bottom-color: var(--fill-color);\n",
              "    animation:\n",
              "      spin 1s steps(1) infinite;\n",
              "  }\n",
              "\n",
              "  @keyframes spin {\n",
              "    0% {\n",
              "      border-color: transparent;\n",
              "      border-bottom-color: var(--fill-color);\n",
              "      border-left-color: var(--fill-color);\n",
              "    }\n",
              "    20% {\n",
              "      border-color: transparent;\n",
              "      border-left-color: var(--fill-color);\n",
              "      border-top-color: var(--fill-color);\n",
              "    }\n",
              "    30% {\n",
              "      border-color: transparent;\n",
              "      border-left-color: var(--fill-color);\n",
              "      border-top-color: var(--fill-color);\n",
              "      border-right-color: var(--fill-color);\n",
              "    }\n",
              "    40% {\n",
              "      border-color: transparent;\n",
              "      border-right-color: var(--fill-color);\n",
              "      border-top-color: var(--fill-color);\n",
              "    }\n",
              "    60% {\n",
              "      border-color: transparent;\n",
              "      border-right-color: var(--fill-color);\n",
              "    }\n",
              "    80% {\n",
              "      border-color: transparent;\n",
              "      border-right-color: var(--fill-color);\n",
              "      border-bottom-color: var(--fill-color);\n",
              "    }\n",
              "    90% {\n",
              "      border-color: transparent;\n",
              "      border-bottom-color: var(--fill-color);\n",
              "    }\n",
              "  }\n",
              "</style>\n",
              "\n",
              "  <script>\n",
              "    async function quickchart(key) {\n",
              "      const quickchartButtonEl =\n",
              "        document.querySelector('#' + key + ' button');\n",
              "      quickchartButtonEl.disabled = true;  // To prevent multiple clicks.\n",
              "      quickchartButtonEl.classList.add('colab-df-spinner');\n",
              "      try {\n",
              "        const charts = await google.colab.kernel.invokeFunction(\n",
              "            'suggestCharts', [key], {});\n",
              "      } catch (error) {\n",
              "        console.error('Error during call to suggestCharts:', error);\n",
              "      }\n",
              "      quickchartButtonEl.classList.remove('colab-df-spinner');\n",
              "      quickchartButtonEl.classList.add('colab-df-quickchart-complete');\n",
              "    }\n",
              "    (() => {\n",
              "      let quickchartButtonEl =\n",
              "        document.querySelector('#df-7c0880f4-1a7d-4a79-b972-cff65f237f15 button');\n",
              "      quickchartButtonEl.style.display =\n",
              "        google.colab.kernel.accessAllowed ? 'block' : 'none';\n",
              "    })();\n",
              "  </script>\n",
              "</div>\n",
              "\n",
              "    </div>\n",
              "  </div>\n"
            ],
            "application/vnd.google.colaboratory.intrinsic+json": {
              "type": "dataframe",
              "variable_name": "df",
              "summary": "{\n  \"name\": \"df\",\n  \"rows\": 6914,\n  \"fields\": [\n    {\n      \"column\": \"subject_id\",\n      \"properties\": {\n        \"dtype\": \"number\",\n        \"std\": 19,\n        \"min\": 1,\n        \"max\": 82,\n        \"num_unique_values\": 82,\n        \"samples\": [\n          31,\n          1,\n          23\n        ],\n        \"semantic_type\": \"\",\n        \"description\": \"\"\n      }\n    },\n    {\n      \"column\": \"Jitter(%)\",\n      \"properties\": {\n        \"dtype\": \"number\",\n        \"std\": 1.1320556148764027,\n        \"min\": 0.083,\n        \"max\": 14.376,\n        \"num_unique_values\": 2031,\n        \"samples\": [\n          0.741,\n          0.696,\n          1.065\n        ],\n        \"semantic_type\": \"\",\n        \"description\": \"\"\n      }\n    },\n    {\n      \"column\": \"Jitter(Abs)\",\n      \"properties\": {\n        \"dtype\": \"number\",\n        \"std\": 6.96009135231629e-05,\n        \"min\": 2.25e-06,\n        \"max\": 0.000776606,\n        \"num_unique_values\": 2108,\n        \"samples\": [\n          0.000153511,\n          0.000136354,\n          0.0001471\n        ],\n        \"semantic_type\": \"\",\n        \"description\": \"\"\n      }\n    },\n    {\n      \"column\": \"Jitter(RAP)\",\n      \"properties\": {\n        \"dtype\": \"number\",\n        \"std\": 0.5848257482473012,\n        \"min\": 0.033,\n        \"max\": 8.016,\n        \"num_unique_values\": 1363,\n        \"samples\": [\n          0.517,\n          0.583,\n          0.894\n        ],\n        \"semantic_type\": \"\",\n        \"description\": \"\"\n      }\n    },\n    {\n      \"column\": \"Jitter(PPQ5)\",\n      \"properties\": {\n        \"dtype\": \"number\",\n        \"std\": 0.6680886308773982,\n        \"min\": 0.043,\n        \"max\": 13.542,\n        \"num_unique_values\": 1421,\n        \"samples\": [\n          0.322,\n          0.334,\n          0.66\n        ],\n        \"semantic_type\": \"\",\n        \"description\": \"\"\n      }\n    },\n    {\n      \"column\": \"Jitter:DDP\",\n      \"properties\": {\n        \"dtype\": \"number\",\n        \"std\": 1.754491233312689,\n        \"min\": 0.098,\n        \"max\": 24.048,\n        \"num_unique_values\": 2423,\n        \"samples\": [\n          1.272,\n          1.215,\n          0.977\n        ],\n        \"semantic_type\": \"\",\n        \"description\": \"\"\n      }\n    },\n    {\n      \"column\": \"Shimmer(local)\",\n      \"properties\": {\n        \"dtype\": \"number\",\n        \"std\": 4.659278008751211,\n        \"min\": 0.306,\n        \"max\": 41.137,\n        \"num_unique_values\": 4524,\n        \"samples\": [\n          5.771,\n          6.929,\n          13.003\n        ],\n        \"semantic_type\": \"\",\n        \"description\": \"\"\n      }\n    },\n    {\n      \"column\": \"Shimmer(dB)\",\n      \"properties\": {\n        \"dtype\": \"number\",\n        \"std\": 0.4140299731230435,\n        \"min\": 0.026,\n        \"max\": 2.721,\n        \"num_unique_values\": 1380,\n        \"samples\": [\n          0.905,\n          0.077,\n          1.303\n        ],\n        \"semantic_type\": \"\",\n        \"description\": \"\"\n      }\n    },\n    {\n      \"column\": \"Shimmer(APQ3)\",\n      \"properties\": {\n        \"dtype\": \"number\",\n        \"std\": 2.2098193490361906,\n        \"min\": 0.161,\n        \"max\": 25.82,\n        \"num_unique_values\": 3487,\n        \"samples\": [\n          2.052,\n          0.435,\n          4.222\n        ],\n        \"semantic_type\": \"\",\n        \"description\": \"\"\n      }\n    },\n    {\n      \"column\": \"Shimmer(APQ5)\",\n      \"properties\": {\n        \"dtype\": \"number\",\n        \"std\": 3.2303768662509333,\n        \"min\": 0.194,\n        \"max\": 72.86,\n        \"num_unique_values\": 3722,\n        \"samples\": [\n          1.567,\n          19.767,\n          2.632\n        ],\n        \"semantic_type\": \"\",\n        \"description\": \"\"\n      }\n    },\n    {\n      \"column\": \"Shimmer(APQ11)\",\n      \"properties\": {\n        \"dtype\": \"number\",\n        \"std\": 4.504343380652115,\n        \"min\": 0.249,\n        \"max\": 44.764,\n        \"num_unique_values\": 4155,\n        \"samples\": [\n          3.991,\n          13.411,\n          7.954\n        ],\n        \"semantic_type\": \"\",\n        \"description\": \"\"\n      }\n    },\n    {\n      \"column\": \"Shimmer(DDA)\",\n      \"properties\": {\n        \"dtype\": \"number\",\n        \"std\": 6.629469495449186,\n        \"min\": 0.484,\n        \"max\": 77.459,\n        \"num_unique_values\": 5161,\n        \"samples\": [\n          1.691,\n          2.498,\n          10.157\n        ],\n        \"semantic_type\": \"\",\n        \"description\": \"\"\n      }\n    },\n    {\n      \"column\": \"Class_info\",\n      \"properties\": {\n        \"dtype\": \"number\",\n        \"std\": 0,\n        \"min\": 0,\n        \"max\": 1,\n        \"num_unique_values\": 2,\n        \"samples\": [\n          0,\n          1\n        ],\n        \"semantic_type\": \"\",\n        \"description\": \"\"\n      }\n    }\n  ]\n}"
            }
          },
          "metadata": {},
          "execution_count": 2
        }
      ]
    },
    {
      "cell_type": "code",
      "source": [
        "# Prepare training data for the machine learning model\n",
        "# Define independent variables\n",
        "ind_col = [col for col in df.columns if col!='Class_info']\n",
        "ind_col=[col for col in ind_col if col!='subject_id']\n",
        "#ind_col=[col for col in df.columns if col!='Subject_id']\n",
        "# Define dependent variable\n",
        "dep_col = 'Class_info'\n",
        "print(ind_col)\n",
        "print(dep_col)\n"
      ],
      "metadata": {
        "colab": {
          "base_uri": "https://localhost:8080/"
        },
        "id": "2lcA9kfZY8sd",
        "outputId": "45b0b236-8f67-4e97-9cc8-09c915dd1284"
      },
      "execution_count": 3,
      "outputs": [
        {
          "output_type": "stream",
          "name": "stdout",
          "text": [
            "['Jitter(%)', 'Jitter(Abs)', 'Jitter(RAP)', 'Jitter(PPQ5)', 'Jitter:DDP', 'Shimmer(local)', 'Shimmer(dB)', 'Shimmer(APQ3)', 'Shimmer(APQ5)', 'Shimmer(APQ11)', 'Shimmer(DDA)']\n",
            "Class_info\n"
          ]
        }
      ]
    },
    {
      "cell_type": "code",
      "source": [
        "X = df[ind_col]\n",
        "y = df[dep_col]"
      ],
      "metadata": {
        "id": "KB7RQuimZBsM"
      },
      "execution_count": 4,
      "outputs": []
    },
    {
      "cell_type": "code",
      "source": [
        "import matplotlib.pyplot as plt\n",
        "import seaborn as sns"
      ],
      "metadata": {
        "id": "bKkh0mdIZGnd"
      },
      "execution_count": 5,
      "outputs": []
    },
    {
      "cell_type": "code",
      "source": [
        "# Import necessary libraries\n",
        "from imblearn.over_sampling import SMOTE\n",
        "from sklearn.model_selection import train_test_split\n",
        "from collections import Counter\n",
        "\n",
        "# Print the original distribution\n",
        "print(\"Original dataset shape:\", Counter(y))\n",
        "\n",
        "# Apply SMOTE\n",
        "smote = SMOTE(random_state=42)\n",
        "X_resampled, y_resampled = smote.fit_resample(X, y)\n",
        "\n",
        "# Print the resampled distribution\n",
        "print(\"Resampled dataset shape:\", Counter(y_resampled))\n",
        "\n",
        "# Visualize the resampled data distribution\n",
        "fig, ax = plt.subplots(1, 2)\n",
        "fig.suptitle('Resampled Status', fontsize=16, color='navy')\n",
        "plt.style.use('seaborn-v0_8-bright')\n",
        "\n",
        "plt.subplot(1, 2, 1)\n",
        "y_resampled.value_counts().plot(kind='bar', color=sns.color_palette(\"husl\"))\n",
        "plt.title('Balanced Class Distribution')\n",
        "\n",
        "plt.subplot(1, 2, 2)\n",
        "y_resampled.value_counts().plot(kind='pie', autopct=\"%.2f%%\")\n",
        "plt.title('Balanced Class Proportion')\n",
        "\n",
        "plt.show()\n"
      ],
      "metadata": {
        "colab": {
          "base_uri": "https://localhost:8080/",
          "height": 527
        },
        "id": "HN614k7DZNOX",
        "outputId": "1e688670-0a19-41df-9994-5ff6be0de67a"
      },
      "execution_count": 6,
      "outputs": [
        {
          "output_type": "stream",
          "name": "stdout",
          "text": [
            "Original dataset shape: Counter({1: 6394, 0: 520})\n",
            "Resampled dataset shape: Counter({1: 6394, 0: 6394})\n"
          ]
        },
        {
          "output_type": "display_data",
          "data": {
            "text/plain": [
              "<Figure size 640x480 with 2 Axes>"
            ],
            "image/png": "[encoded data removed]"
          },
          "metadata": {}
        }
      ]
    },
    {
      "cell_type": "code",
      "source": [
        "smote_df = pd.concat([X_resampled, y_resampled], axis=1)"
      ],
      "metadata": {
        "id": "Xb6CumdJZTel"
      },
      "execution_count": 7,
      "outputs": []
    },
    {
      "cell_type": "code",
      "source": [
        "# Print the original columns to verify\n",
        "print(\"Original columns:\", smote_df.columns.tolist())\n",
        "\n",
        "# Define the exact column names to drop\n",
        "columns_to_drop = ['subject_id']\n",
        "\n",
        "# Drop the columns if they exist in the DataFrame\n",
        "smote_df.drop(columns=[col for col in columns_to_drop if col in smote_df.columns], inplace=True)\n",
        "\n",
        "# Verify the remaining columns\n",
        "print(\"Remaining columns:\", smote_df.columns.tolist())"
      ],
      "metadata": {
        "colab": {
          "base_uri": "https://localhost:8080/"
        },
        "id": "3t7oxwMSZXrB",
        "outputId": "f33ffaea-4703-4840-9665-f62fe5b4a8af"
      },
      "execution_count": 8,
      "outputs": [
        {
          "output_type": "stream",
          "name": "stdout",
          "text": [
            "Original columns: ['Jitter(%)', 'Jitter(Abs)', 'Jitter(RAP)', 'Jitter(PPQ5)', 'Jitter:DDP', 'Shimmer(local)', 'Shimmer(dB)', 'Shimmer(APQ3)', 'Shimmer(APQ5)', 'Shimmer(APQ11)', 'Shimmer(DDA)', 'Class_info']\n",
            "Remaining columns: ['Jitter(%)', 'Jitter(Abs)', 'Jitter(RAP)', 'Jitter(PPQ5)', 'Jitter:DDP', 'Shimmer(local)', 'Shimmer(dB)', 'Shimmer(APQ3)', 'Shimmer(APQ5)', 'Shimmer(APQ11)', 'Shimmer(DDA)', 'Class_info']\n"
          ]
        }
      ]
    },
    {
      "cell_type": "code",
      "source": [
        "# Prepare training data for the machine learning model\n",
        "# Define independent variables\n",
        "ind_col = [col for col in smote_df.columns if col!='Class_info']\n",
        "# Define dependent variable\n",
        "dep_col = 'Class_info'\n",
        "\n",
        "X = smote_df[ind_col]\n",
        "y = smote_df[dep_col]"
      ],
      "metadata": {
        "id": "ibayeU8bZei3"
      },
      "execution_count": 9,
      "outputs": []
    },
    {
      "cell_type": "code",
      "source": [
        "X.columns"
      ],
      "metadata": {
        "colab": {
          "base_uri": "https://localhost:8080/"
        },
        "id": "_uBb3LJTZiQo",
        "outputId": "4dd8ff76-f342-4ef3-ce23-87721d9e2404"
      },
      "execution_count": 10,
      "outputs": [
        {
          "output_type": "execute_result",
          "data": {
            "text/plain": [
              "Index(['Jitter(%)', 'Jitter(Abs)', 'Jitter(RAP)', 'Jitter(PPQ5)', 'Jitter:DDP',\n",
              "       'Shimmer(local)', 'Shimmer(dB)', 'Shimmer(APQ3)', 'Shimmer(APQ5)',\n",
              "       'Shimmer(APQ11)', 'Shimmer(DDA)'],\n",
              "      dtype='object')"
            ]
          },
          "metadata": {},
          "execution_count": 10
        }
      ]
    },
    {
      "cell_type": "code",
      "source": [
        "y.shape"
      ],
      "metadata": {
        "colab": {
          "base_uri": "https://localhost:8080/"
        },
        "id": "BXLo70NrZmHq",
        "outputId": "a42e0a1c-5246-436d-a3bf-a7ca3739f889"
      },
      "execution_count": 11,
      "outputs": [
        {
          "output_type": "execute_result",
          "data": {
            "text/plain": [
              "(12788,)"
            ]
          },
          "metadata": {},
          "execution_count": 11
        }
      ]
    },
    {
      "cell_type": "code",
      "source": [
        "from sklearn.model_selection import train_test_split\n",
        "\n",
        "# Divide the data set into training set and test set\n",
        "X_train, X_test, y_train, y_test = train_test_split(X, y, test_size=0.5, random_state=42)"
      ],
      "metadata": {
        "id": "pFlgC3enZq4D"
      },
      "execution_count": 12,
      "outputs": []
    },
    {
      "cell_type": "code",
      "source": [
        "from sklearn.preprocessing import StandardScaler\n",
        "\n",
        "# Features normalization\n",
        "scaler = StandardScaler()\n",
        "X_train = scaler.fit_transform(X_train)\n",
        "X_test = scaler.transform(X_test)"
      ],
      "metadata": {
        "id": "j_sJjuwnZvMD"
      },
      "execution_count": 13,
      "outputs": []
    },
    {
      "cell_type": "code",
      "source": [
        "from sklearn.metrics import confusion_matrix, classification_report\n",
        "from sklearn.metrics import accuracy_score, precision_score, recall_score, f1_score"
      ],
      "metadata": {
        "id": "S0rg31pTcKk-"
      },
      "execution_count": 14,
      "outputs": []
    },
    {
      "cell_type": "markdown",
      "source": [
        "  XG BOOST"
      ],
      "metadata": {
        "id": "6w26HJfcZ2ep"
      }
    },
    {
      "cell_type": "code",
      "source": [
        "from xgboost import XGBClassifier"
      ],
      "metadata": {
        "id": "-qTSjbUAZ0FA"
      },
      "execution_count": 15,
      "outputs": []
    },
    {
      "cell_type": "code",
      "source": [
        "xgb = XGBClassifier(\n",
        "    n_estimators=300,\n",
        "    learning_rate=0.05,\n",
        "    max_depth=4,\n",
        "    min_child_weight=3,\n",
        "    gamma=5,\n",
        "    subsample=0.7,\n",
        "    colsample_bytree=0.8,\n",
        "    lambda_=5,\n",
        "    alpha=2,\n",
        "    random_state=42\n",
        ")\n"
      ],
      "metadata": {
        "id": "p-1qlVSGcWo3"
      },
      "execution_count": 16,
      "outputs": []
    },
    {
      "cell_type": "code",
      "source": [
        "xgb.fit(X_train, y_train)\n",
        "y_pred = xgb.predict(X_test)\n",
        "\n",
        "print(f'Training Accuracy of XGBoost is {accuracy_score(y_train, xgb.predict(X_train))}\\n')\n",
        "\n",
        "xgb_accuracy = accuracy_score(y_test, y_pred)\n",
        "xgb_precision = precision_score(y_test, y_pred, average='macro')\n",
        "xgb_recall = recall_score(y_test, y_pred, average='macro')\n",
        "xgb_f1_score = f1_score(y_test, y_pred, average='macro')\n",
        "\n",
        "#print(f\"Confusion Matrix: \\n{confusion_matrix(y_test, y_pred)}\\n\")\n",
        "print(f\"Test Accuracy of XGBoost is {xgb_accuracy} \\n\")\n",
        "print(f\"Test Precision of XGBoost is {xgb_precision} \\n\")\n",
        "print(f\"Test Recall of XGBoost is {xgb_recall} \\n\")\n",
        "print(f\"Test F1_score of XGBoost is {xgb_f1_score} \\n\")\n",
        "print(f\"Classification Report: \\n{classification_report(y_test, y_pred)}\")\n",
        "cm = confusion_matrix(y_test, y_pred)\n",
        "sns.set(rc={\"figure.figsize\": (4, 3)})\n",
        "sns.heatmap(cm, annot=True, cmap='Blues', fmt='d')"
      ],
      "metadata": {
        "colab": {
          "base_uri": "https://localhost:8080/",
          "height": 730
        },
        "id": "Kpk91njMcbhV",
        "outputId": "aa86830c-db8e-45e9-cd26-f93d6d1952de"
      },
      "execution_count": 17,
      "outputs": [
        {
          "output_type": "stream",
          "name": "stderr",
          "text": [
            "/usr/local/lib/python3.11/dist-packages/xgboost/core.py:158: UserWarning: [15:01:48] WARNING: /workspace/src/learner.cc:740: \n",
            "Parameters: { \"lambda_\" } are not used.\n",
            "\n",
            "  warnings.warn(smsg, UserWarning)\n"
          ]
        },
        {
          "output_type": "stream",
          "name": "stdout",
          "text": [
            "Training Accuracy of XGBoost is 0.9185173600250235\n",
            "\n",
            "Test Accuracy of XGBoost is 0.9122614951517047 \n",
            "\n",
            "Test Precision of XGBoost is 0.91414567960982 \n",
            "\n",
            "Test Recall of XGBoost is 0.9126572371892868 \n",
            "\n",
            "Test F1_score of XGBoost is 0.9122072066504552 \n",
            "\n",
            "Classification Report: \n",
            "              precision    recall  f1-score   support\n",
            "\n",
            "           0       0.88      0.95      0.91      3161\n",
            "           1       0.95      0.88      0.91      3233\n",
            "\n",
            "    accuracy                           0.91      6394\n",
            "   macro avg       0.91      0.91      0.91      6394\n",
            "weighted avg       0.91      0.91      0.91      6394\n",
            "\n"
          ]
        },
        {
          "output_type": "execute_result",
          "data": {
            "text/plain": [
              "<Axes: >"
            ]
          },
          "metadata": {},
          "execution_count": 17
        },
        {
          "output_type": "display_data",
          "data": {
            "text/plain": [
              "<Figure size 400x300 with 2 Axes>"
            ],
            "image/png": "[encoded data removed]"
          },
          "metadata": {}
        }
      ]
    },
    {
      "cell_type": "markdown",
      "source": [
        "KNN"
      ],
      "metadata": {
        "id": "3Dwp4Tk1c4Mk"
      }
    },
    {
      "cell_type": "code",
      "source": [
        "\n",
        "from sklearn.neighbors import KNeighborsClassifier\n",
        "from sklearn.metrics import confusion_matrix, classification_report\n",
        "from sklearn.metrics import accuracy_score, precision_score, recall_score, f1_score\n",
        "\n",
        "# Create KNN classifier\n",
        "knn = KNeighborsClassifier()\n",
        "# Train KNN classifier\n",
        "knn.fit(X_train, y_train)\n",
        "# Use the trained model for prediction\n",
        "y_pred = knn.predict(X_test)\n",
        "\n",
        "print(f'Training Accuracy of KNN is {accuracy_score(y_train, knn.predict(X_train))}\\n')\n",
        "\n",
        "knn_accuracy = accuracy_score(y_test, y_pred)\n",
        "knn_precision = precision_score(y_test, y_pred, average='macro')\n",
        "knn_recall = recall_score(y_test, y_pred, average='macro')\n",
        "knn_f1_score = f1_score(y_test, y_pred, average='macro')\n",
        "\n",
        "print(f\"Test Accuracy of KNN is {knn_accuracy} \\n\")\n",
        "print(f\"Test Precision of KNN is {knn_precision} \\n\")\n",
        "print(f\"Test Recall of KNN is {knn_recall} \\n\")\n",
        "print(f\"Test F1_score of KNN is {knn_f1_score} \\n\")\n",
        "print(f\"Classification Report: \\n {classification_report(y_test, y_pred)}\")\n",
        "\n",
        "print(\"confusion matrix \")\n",
        "cm = confusion_matrix(y_test, y_pred)\n",
        "sns.set(rc={\"figure.figsize\": (4, 3)})\n",
        "sns.heatmap(cm, annot=True, cmap='Blues', fmt='d')"
      ],
      "metadata": {
        "colab": {
          "base_uri": "https://localhost:8080/",
          "height": 678
        },
        "id": "3k8WCPuLcv-f",
        "outputId": "a1e8b75f-101d-4377-9903-7250fedfab8d"
      },
      "execution_count": 18,
      "outputs": [
        {
          "output_type": "stream",
          "name": "stdout",
          "text": [
            "Training Accuracy of KNN is 0.9476071316859556\n",
            "\n",
            "Test Accuracy of KNN is 0.9325930559899906 \n",
            "\n",
            "Test Precision of KNN is 0.9365119044801553 \n",
            "\n",
            "Test Recall of KNN is 0.9331463740004049 \n",
            "\n",
            "Test F1_score of KNN is 0.9324923160120588 \n",
            "\n",
            "Classification Report: \n",
            "               precision    recall  f1-score   support\n",
            "\n",
            "           0       0.89      0.98      0.94      3161\n",
            "           1       0.98      0.88      0.93      3233\n",
            "\n",
            "    accuracy                           0.93      6394\n",
            "   macro avg       0.94      0.93      0.93      6394\n",
            "weighted avg       0.94      0.93      0.93      6394\n",
            "\n",
            "confusion matrix \n"
          ]
        },
        {
          "output_type": "execute_result",
          "data": {
            "text/plain": [
              "<Axes: >"
            ]
          },
          "metadata": {},
          "execution_count": 18
        },
        {
          "output_type": "display_data",
          "data": {
            "text/plain": [
              "<Figure size 400x300 with 2 Axes>"
            ],
            "image/png": "[encoded data removed]"
          },
          "metadata": {}
        }
      ]
    },
    {
      "cell_type": "markdown",
      "source": [
        "Random forest classifier"
      ],
      "metadata": {
        "id": "JPAr7SksdZM7"
      }
    },
    {
      "cell_type": "code",
      "source": [
        "from sklearn.ensemble import RandomForestClassifier\n",
        "from sklearn.metrics import accuracy_score, precision_score, recall_score, f1_score, classification_report, confusion_matrix\n",
        "import seaborn as sns\n",
        "import matplotlib.pyplot as plt\n",
        "\n",
        "rfc = RandomForestClassifier(\n",
        "    n_estimators=300,\n",
        "    max_depth=10,\n",
        "    max_features=\"sqrt\",\n",
        "    min_samples_split=10,\n",
        "    min_samples_leaf=5,\n",
        "    bootstrap=True,  # Enable bootstrapping\n",
        "    max_samples=0.8,  # Use only 80% of training data\n",
        "    random_state=42\n",
        ")\n",
        "\n",
        "# Fit the model\n",
        "rfc.fit(X_train, y_train)\n",
        "\n",
        "# Predicting on test data\n",
        "y_pred = rfc.predict(X_test)\n",
        "\n",
        "# Training accuracy\n",
        "print(f'Training Accuracy of Random Forest is {accuracy_score(y_train, rfc.predict(X_train))}\\n')\n",
        "\n",
        "# Model evaluation metrics\n",
        "rfc_accuracy = accuracy_score(y_test, y_pred)\n",
        "rfc_precision = precision_score(y_test, y_pred, average='macro')\n",
        "rfc_recall = recall_score(y_test, y_pred, average='macro')\n",
        "rfc_f1_score = f1_score(y_test, y_pred, average='macro')\n",
        "\n",
        "print(f\"Test Accuracy of Random Forest is {rfc_accuracy} \\n\")\n",
        "print(f\"Test Precision of Random Forest is {rfc_precision} \\n\")\n",
        "print(f\"Test Recall of Random Forest is {rfc_recall} \\n\")\n",
        "print(f\"Test F1_score of Random Forest is {rfc_f1_score} \\n\")\n",
        "print(f\"Classification Report: \\n{classification_report(y_test, y_pred)}\")\n",
        "\n",
        "# Confusion matrix\n",
        "print(\"Confusion matrix:\")\n",
        "cm = confusion_matrix(y_test, y_pred)\n",
        "sns.set(rc={\"figure.figsize\": (4, 3)})\n",
        "sns.heatmap(cm, annot=True, cmap='Blues', fmt='d')\n",
        "plt.title(\"Confusion Matrix\")\n",
        "plt.show()\n"
      ],
      "metadata": {
        "colab": {
          "base_uri": "https://localhost:8080/",
          "height": 682
        },
        "id": "9izbc6UXc9wl",
        "outputId": "ac912812-8e6f-4261-f397-b18d0b0812d7"
      },
      "execution_count": 19,
      "outputs": [
        {
          "output_type": "stream",
          "name": "stdout",
          "text": [
            "Training Accuracy of Random Forest is 0.9427588364091336\n",
            "\n",
            "Test Accuracy of Random Forest is 0.9239912417891774 \n",
            "\n",
            "Test Precision of Random Forest is 0.9257254843523868 \n",
            "\n",
            "Test Recall of Random Forest is 0.9243690966487347 \n",
            "\n",
            "Test F1_score of Random Forest is 0.9239504967679468 \n",
            "\n",
            "Classification Report: \n",
            "              precision    recall  f1-score   support\n",
            "\n",
            "           0       0.90      0.96      0.93      3161\n",
            "           1       0.96      0.89      0.92      3233\n",
            "\n",
            "    accuracy                           0.92      6394\n",
            "   macro avg       0.93      0.92      0.92      6394\n",
            "weighted avg       0.93      0.92      0.92      6394\n",
            "\n",
            "Confusion matrix:\n"
          ]
        },
        {
          "output_type": "display_data",
          "data": {
            "text/plain": [
              "<Figure size 400x300 with 2 Axes>"
            ],
            "image/png": "[encoded data removed]"
          },
          "metadata": {}
        }
      ]
    },
    {
      "cell_type": "markdown",
      "source": [
        "Ada Boost"
      ],
      "metadata": {
        "id": "3Ms4FwLOdeP2"
      }
    },
    {
      "cell_type": "code",
      "source": [
        "from sklearn.ensemble import AdaBoostClassifier\n",
        "\n",
        "ada = AdaBoostClassifier()\n",
        "ada.fit(X_train, y_train)\n",
        "y_pred = ada.predict(X_test)\n",
        "\n",
        "print(f'Training Accuracy of AdaBoost is {accuracy_score(y_train, ada.predict(X_train))}\\n')\n",
        "\n",
        "ada_accuracy = accuracy_score(y_test, y_pred)\n",
        "ada_precision = precision_score(y_test, y_pred, average='macro')\n",
        "ada_recall = recall_score(y_test, y_pred, average='macro')\n",
        "ada_f1_score = f1_score(y_test, y_pred, average='macro')\n",
        "\n",
        "print(f\"Test Accuracy of AdaBoost is {ada_accuracy} \\n\")\n",
        "print(f\"Test Precision of AdaBoost is {ada_precision} \\n\")\n",
        "print(f\"Test Recall of AdaBoost is {ada_recall} \\n\")\n",
        "print(f\"Test F1_score of AdaBoost is {ada_f1_score} \\n\")\n",
        "print(f\"Classification Report: \\n{classification_report(y_test, y_pred)}\")\n",
        "\n",
        "print(\"confusion matrix:\")\n",
        "cm = confusion_matrix(y_test, y_pred)\n",
        "sns.set(rc={\"figure.figsize\": (4, 3)})\n",
        "sns.heatmap(cm, annot=True, cmap='Blues', fmt='d')\n"
      ],
      "metadata": {
        "colab": {
          "base_uri": "https://localhost:8080/",
          "height": 678
        },
        "id": "ziIeiLrldViC",
        "outputId": "56413d2b-c133-4398-b2be-dd1e0aa06a55"
      },
      "execution_count": 20,
      "outputs": [
        {
          "output_type": "stream",
          "name": "stdout",
          "text": [
            "Training Accuracy of AdaBoost is 0.8923991241789178\n",
            "\n",
            "Test Accuracy of AdaBoost is 0.8877072255239287 \n",
            "\n",
            "Test Precision of AdaBoost is 0.8900163834443736 \n",
            "\n",
            "Test Recall of AdaBoost is 0.8881509324368 \n",
            "\n",
            "Test F1_score of AdaBoost is 0.8876100632071784 \n",
            "\n",
            "Classification Report: \n",
            "              precision    recall  f1-score   support\n",
            "\n",
            "           0       0.86      0.93      0.89      3161\n",
            "           1       0.92      0.85      0.88      3233\n",
            "\n",
            "    accuracy                           0.89      6394\n",
            "   macro avg       0.89      0.89      0.89      6394\n",
            "weighted avg       0.89      0.89      0.89      6394\n",
            "\n",
            "confusion matrix:\n"
          ]
        },
        {
          "output_type": "execute_result",
          "data": {
            "text/plain": [
              "<Axes: >"
            ]
          },
          "metadata": {},
          "execution_count": 20
        },
        {
          "output_type": "display_data",
          "data": {
            "text/plain": [
              "<Figure size 400x300 with 2 Axes>"
            ],
            "image/png": "[encoded data removed]"
          },
          "metadata": {}
        }
      ]
    },
    {
      "cell_type": "markdown",
      "source": [
        "Logistic Regression"
      ],
      "metadata": {
        "id": "sCr8og1FdmWA"
      }
    },
    {
      "cell_type": "code",
      "source": [
        "from sklearn.linear_model import LogisticRegression\n",
        "\n",
        "logreg = LogisticRegression()\n",
        "logreg.fit(X_train, y_train)\n",
        "y_pred = logreg.predict(X_test)\n",
        "\n",
        "print(f'Training Accuracy of Logistic Regression is {accuracy_score(y_train, logreg.predict(X_train))}\\n')\n",
        "\n",
        "logreg_accuracy = accuracy_score(y_test, y_pred)\n",
        "logreg_precision = precision_score(y_test, y_pred, average='macro')\n",
        "logreg_recall = recall_score(y_test, y_pred, average='macro')\n",
        "logreg_f1_score = f1_score(y_test, y_pred, average='macro')\n",
        "\n",
        "print(f\"Test Accuracy of Logistic Regression is {logreg_accuracy} \\n\")\n",
        "print(f\"Test Precision of Logistic Regression is {logreg_precision} \\n\")\n",
        "print(f\"Test Recall of Logistic Regression is {logreg_recall} \\n\")\n",
        "print(f\"Test F1_score of Logistic Regression is {logreg_f1_score} \\n\")\n",
        "print(f\"Classification Report: \\n{classification_report(y_test, y_pred)}\")\n",
        "\n",
        "print(\"confusion matrix:\")\n",
        "cm = confusion_matrix(y_test, y_pred)\n",
        "sns.set(rc={\"figure.figsize\": (4, 3)})\n",
        "sns.heatmap(cm, annot=True, cmap='Blues', fmt='d')"
      ],
      "metadata": {
        "colab": {
          "base_uri": "https://localhost:8080/",
          "height": 678
        },
        "id": "TPIqCBXidlWX",
        "outputId": "340753f9-7e50-495e-8af3-697c202b20d5"
      },
      "execution_count": 21,
      "outputs": [
        {
          "output_type": "stream",
          "name": "stdout",
          "text": [
            "Training Accuracy of Logistic Regression is 0.8925555208007507\n",
            "\n",
            "Test Accuracy of Logistic Regression is 0.8923991241789178 \n",
            "\n",
            "Test Precision of Logistic Regression is 0.8924375291488226 \n",
            "\n",
            "Test Recall of Logistic Regression is 0.8923396838968745 \n",
            "\n",
            "Test F1_score of Logistic Regression is 0.8923738414046494 \n",
            "\n",
            "Classification Report: \n",
            "              precision    recall  f1-score   support\n",
            "\n",
            "           0       0.89      0.89      0.89      3161\n",
            "           1       0.89      0.90      0.89      3233\n",
            "\n",
            "    accuracy                           0.89      6394\n",
            "   macro avg       0.89      0.89      0.89      6394\n",
            "weighted avg       0.89      0.89      0.89      6394\n",
            "\n",
            "confusion matrix:\n"
          ]
        },
        {
          "output_type": "execute_result",
          "data": {
            "text/plain": [
              "<Axes: >"
            ]
          },
          "metadata": {},
          "execution_count": 21
        },
        {
          "output_type": "display_data",
          "data": {
            "text/plain": [
              "<Figure size 400x300 with 2 Axes>"
            ],
            "image/png": "[encoded data removed]"
          },
          "metadata": {}
        }
      ]
    },
    {
      "cell_type": "markdown",
      "source": [
        "MLP classifier"
      ],
      "metadata": {
        "id": "hLeN407EduUD"
      }
    },
    {
      "cell_type": "code",
      "source": [
        "from sklearn.neural_network import MLPClassifier\n",
        "from sklearn.metrics import accuracy_score, precision_score, recall_score, f1_score, confusion_matrix, classification_report\n",
        "\n",
        "mlp = MLPClassifier(random_state=0)\n",
        "mlp.fit(X_train, y_train)\n",
        "y_pred = mlp.predict(X_test)\n",
        "\n",
        "print(f'Training Accuracy of MLP is {accuracy_score(y_train, mlp.predict(X_train))}\\n')\n",
        "\n",
        "mlp_accuracy = accuracy_score(y_test, y_pred)\n",
        "mlp_precision = precision_score(y_test, y_pred, average='macro')\n",
        "mlp_recall = recall_score(y_test, y_pred, average='macro')\n",
        "mlp_f1_score = f1_score(y_test, y_pred, average='macro')\n",
        "\n",
        "print(f\"Test Accuracy of MLP is {mlp_accuracy} \\n\")\n",
        "print(f\"Test Precision of MLP is {mlp_precision} \\n\")\n",
        "print(f\"Test Recall of MLP is {mlp_recall} \\n\")\n",
        "print(f\"Test F1_score of MLP is {mlp_f1_score} \\n\")\n",
        "print(f\"Classification Report: \\n{classification_report(y_test, y_pred)}\")\n",
        "\n",
        "\n",
        "print(\"confusion matrix:\")\n",
        "cm = confusion_matrix(y_test, y_pred)\n",
        "sns.set(rc={\"figure.figsize\": (5, 3)})\n",
        "sns.heatmap(cm, annot=True, cmap='Blues', fmt='d')"
      ],
      "metadata": {
        "colab": {
          "base_uri": "https://localhost:8080/",
          "height": 733
        },
        "id": "nbtgL1CudrFe",
        "outputId": "478914a3-d81d-4578-d9ec-943e866c7329"
      },
      "execution_count": 22,
      "outputs": [
        {
          "output_type": "stream",
          "name": "stderr",
          "text": [
            "/usr/local/lib/python3.11/dist-packages/sklearn/neural_network/_multilayer_perceptron.py:691: ConvergenceWarning: Stochastic Optimizer: Maximum iterations (200) reached and the optimization hasn't converged yet.\n",
            "  warnings.warn(\n"
          ]
        },
        {
          "output_type": "stream",
          "name": "stdout",
          "text": [
            "Training Accuracy of MLP is 0.925555208007507\n",
            "\n",
            "Test Accuracy of MLP is 0.9214888958398498 \n",
            "\n",
            "Test Precision of MLP is 0.9215406154489512 \n",
            "\n",
            "Test Recall of MLP is 0.921577574195561 \n",
            "\n",
            "Test F1_score of MLP is 0.921488404221023 \n",
            "\n",
            "Classification Report: \n",
            "              precision    recall  f1-score   support\n",
            "\n",
            "           0       0.91      0.93      0.92      3161\n",
            "           1       0.93      0.91      0.92      3233\n",
            "\n",
            "    accuracy                           0.92      6394\n",
            "   macro avg       0.92      0.92      0.92      6394\n",
            "weighted avg       0.92      0.92      0.92      6394\n",
            "\n",
            "confusion matrix:\n"
          ]
        },
        {
          "output_type": "execute_result",
          "data": {
            "text/plain": [
              "<Axes: >"
            ]
          },
          "metadata": {},
          "execution_count": 22
        },
        {
          "output_type": "display_data",
          "data": {
            "text/plain": [
              "<Figure size 500x300 with 2 Axes>"
            ],
            "image/png": "[encoded data removed]"
          },
          "metadata": {}
        }
      ]
    },
    {
      "cell_type": "markdown",
      "source": [
        "MLP using deep neural networks"
      ],
      "metadata": {
        "id": "skKi0ON9d6M3"
      }
    },
    {
      "cell_type": "code",
      "source": [
        "\n",
        "import tensorflow as tf\n",
        "from tensorflow.keras.models import Sequential\n",
        "from tensorflow.keras.layers import Dense\n",
        "\n",
        "# Define an MLP with Fully Connected Layers\n",
        "model = Sequential([\n",
        "    Dense(16, activation='relu', input_shape=(11,)),  # Input Layer (12 features) -> 16 neurons\n",
        "    Dense(8, activation='relu'),  # Hidden Layer with 8 neurons\n",
        "    Dense(1, activation='sigmoid')  # Output Layer (1 neuron, sigmoid for binary classification)\n",
        "])\n",
        "# Compile the model\n",
        "model.compile(optimizer='adam', loss='binary_crossentropy', metrics=['accuracy'])\n",
        "\n",
        "# Summary of Model Architecture\n",
        "model.summary()\n"
      ],
      "metadata": {
        "colab": {
          "base_uri": "https://localhost:8080/",
          "height": 280
        },
        "id": "rFY7gYzMd0Fy",
        "outputId": "aaaabdf4-c9d2-4d0f-8f89-ec7ce49bd861"
      },
      "execution_count": 23,
      "outputs": [
        {
          "output_type": "stream",
          "name": "stderr",
          "text": [
            "/usr/local/lib/python3.11/dist-packages/keras/src/layers/core/dense.py:87: UserWarning: Do not pass an `input_shape`/`input_dim` argument to a layer. When using Sequential models, prefer using an `Input(shape)` object as the first layer in the model instead.\n",
            "  super().__init__(activity_regularizer=activity_regularizer, **kwargs)\n"
          ]
        },
        {
          "output_type": "display_data",
          "data": {
            "text/plain": [
              "\u001b[1mModel: \"sequential\"\u001b[0m\n"
            ],
            "text/html": [
              "<pre style=\"white-space:pre;overflow-x:auto;line-height:normal;font-family:Menlo,'DejaVu Sans Mono',consolas,'Courier New',monospace\"><span style=\"font-weight: bold\">Model: \"sequential\"</span>\n",
              "</pre>\n"
            ]
          },
          "metadata": {}
        },
        {
          "output_type": "display_data",
          "data": {
            "text/plain": [
              "┏━━━━━━━━━━━━━━━━━━━━━━━━━━━━━━━━━┳━━━━━━━━━━━━━━━━━━━━━━━━┳━━━━━━━━━━━━━━━┓\n",
              "┃\u001b[1m \u001b[0m\u001b[1mLayer (type)                   \u001b[0m\u001b[1m \u001b[0m┃\u001b[1m \u001b[0m\u001b[1mOutput Shape          \u001b[0m\u001b[1m \u001b[0m┃\u001b[1m \u001b[0m\u001b[1m      Param #\u001b[0m\u001b[1m \u001b[0m┃\n",
              "┡━━━━━━━━━━━━━━━━━━━━━━━━━━━━━━━━━╇━━━━━━━━━━━━━━━━━━━━━━━━╇━━━━━━━━━━━━━━━┩\n",
              "│ dense (\u001b[38;5;33mDense\u001b[0m)                   │ (\u001b[38;5;45mNone\u001b[0m, \u001b[38;5;34m16\u001b[0m)             │           \u001b[38;5;34m192\u001b[0m │\n",
              "├─────────────────────────────────┼────────────────────────┼───────────────┤\n",
              "│ dense_1 (\u001b[38;5;33mDense\u001b[0m)                 │ (\u001b[38;5;45mNone\u001b[0m, \u001b[38;5;34m8\u001b[0m)              │           \u001b[38;5;34m136\u001b[0m │\n",
              "├─────────────────────────────────┼────────────────────────┼───────────────┤\n",
              "│ dense_2 (\u001b[38;5;33mDense\u001b[0m)                 │ (\u001b[38;5;45mNone\u001b[0m, \u001b[38;5;34m1\u001b[0m)              │             \u001b[38;5;34m9\u001b[0m │\n",
              "└─────────────────────────────────┴────────────────────────┴───────────────┘\n"
            ],
            "text/html": [
              "<pre style=\"white-space:pre;overflow-x:auto;line-height:normal;font-family:Menlo,'DejaVu Sans Mono',consolas,'Courier New',monospace\">┏━━━━━━━━━━━━━━━━━━━━━━━━━━━━━━━━━┳━━━━━━━━━━━━━━━━━━━━━━━━┳━━━━━━━━━━━━━━━┓\n",
              "┃<span style=\"font-weight: bold\"> Layer (type)                    </span>┃<span style=\"font-weight: bold\"> Output Shape           </span>┃<span style=\"font-weight: bold\">       Param # </span>┃\n",
              "┡━━━━━━━━━━━━━━━━━━━━━━━━━━━━━━━━━╇━━━━━━━━━━━━━━━━━━━━━━━━╇━━━━━━━━━━━━━━━┩\n",
              "│ dense (<span style=\"color: #0087ff; text-decoration-color: #0087ff\">Dense</span>)                   │ (<span style=\"color: #00d7ff; text-decoration-color: #00d7ff\">None</span>, <span style=\"color: #00af00; text-decoration-color: #00af00\">16</span>)             │           <span style=\"color: #00af00; text-decoration-color: #00af00\">192</span> │\n",
              "├─────────────────────────────────┼────────────────────────┼───────────────┤\n",
              "│ dense_1 (<span style=\"color: #0087ff; text-decoration-color: #0087ff\">Dense</span>)                 │ (<span style=\"color: #00d7ff; text-decoration-color: #00d7ff\">None</span>, <span style=\"color: #00af00; text-decoration-color: #00af00\">8</span>)              │           <span style=\"color: #00af00; text-decoration-color: #00af00\">136</span> │\n",
              "├─────────────────────────────────┼────────────────────────┼───────────────┤\n",
              "│ dense_2 (<span style=\"color: #0087ff; text-decoration-color: #0087ff\">Dense</span>)                 │ (<span style=\"color: #00d7ff; text-decoration-color: #00d7ff\">None</span>, <span style=\"color: #00af00; text-decoration-color: #00af00\">1</span>)              │             <span style=\"color: #00af00; text-decoration-color: #00af00\">9</span> │\n",
              "└─────────────────────────────────┴────────────────────────┴───────────────┘\n",
              "</pre>\n"
            ]
          },
          "metadata": {}
        },
        {
          "output_type": "display_data",
          "data": {
            "text/plain": [
              "\u001b[1m Total params: \u001b[0m\u001b[38;5;34m337\u001b[0m (1.32 KB)\n"
            ],
            "text/html": [
              "<pre style=\"white-space:pre;overflow-x:auto;line-height:normal;font-family:Menlo,'DejaVu Sans Mono',consolas,'Courier New',monospace\"><span style=\"font-weight: bold\"> Total params: </span><span style=\"color: #00af00; text-decoration-color: #00af00\">337</span> (1.32 KB)\n",
              "</pre>\n"
            ]
          },
          "metadata": {}
        },
        {
          "output_type": "display_data",
          "data": {
            "text/plain": [
              "\u001b[1m Trainable params: \u001b[0m\u001b[38;5;34m337\u001b[0m (1.32 KB)\n"
            ],
            "text/html": [
              "<pre style=\"white-space:pre;overflow-x:auto;line-height:normal;font-family:Menlo,'DejaVu Sans Mono',consolas,'Courier New',monospace\"><span style=\"font-weight: bold\"> Trainable params: </span><span style=\"color: #00af00; text-decoration-color: #00af00\">337</span> (1.32 KB)\n",
              "</pre>\n"
            ]
          },
          "metadata": {}
        },
        {
          "output_type": "display_data",
          "data": {
            "text/plain": [
              "\u001b[1m Non-trainable params: \u001b[0m\u001b[38;5;34m0\u001b[0m (0.00 B)\n"
            ],
            "text/html": [
              "<pre style=\"white-space:pre;overflow-x:auto;line-height:normal;font-family:Menlo,'DejaVu Sans Mono',consolas,'Courier New',monospace\"><span style=\"font-weight: bold\"> Non-trainable params: </span><span style=\"color: #00af00; text-decoration-color: #00af00\">0</span> (0.00 B)\n",
              "</pre>\n"
            ]
          },
          "metadata": {}
        }
      ]
    },
    {
      "cell_type": "code",
      "source": [
        "print(X_train.shape)\n",
        "print(X_test.shape)"
      ],
      "metadata": {
        "colab": {
          "base_uri": "https://localhost:8080/"
        },
        "id": "hqG8Qk2deDvv",
        "outputId": "6de601a4-097c-463a-d846-20e5cde1f742"
      },
      "execution_count": 24,
      "outputs": [
        {
          "output_type": "stream",
          "name": "stdout",
          "text": [
            "(6394, 11)\n",
            "(6394, 11)\n"
          ]
        }
      ]
    },
    {
      "cell_type": "code",
      "source": [
        "history = model.fit(X_train, y_train, epochs=30, batch_size=32, validation_data=(X_test, y_test))"
      ],
      "metadata": {
        "colab": {
          "base_uri": "https://localhost:8080/"
        },
        "id": "5Uyx-irkeHHJ",
        "outputId": "4b254963-7774-40c3-ec14-3d309006651b"
      },
      "execution_count": 25,
      "outputs": [
        {
          "output_type": "stream",
          "name": "stdout",
          "text": [
            "Epoch 1/30\n",
            "\u001b[1m200/200\u001b[0m \u001b[32m━━━━━━━━━━━━━━━━━━━━\u001b[0m\u001b[37m\u001b[0m \u001b[1m2s\u001b[0m 4ms/step - accuracy: 0.6701 - loss: 0.6157 - val_accuracy: 0.8536 - val_loss: 0.3852\n",
            "Epoch 2/30\n",
            "\u001b[1m200/200\u001b[0m \u001b[32m━━━━━━━━━━━━━━━━━━━━\u001b[0m\u001b[37m\u001b[0m \u001b[1m0s\u001b[0m 2ms/step - accuracy: 0.8545 - loss: 0.3824 - val_accuracy: 0.8750 - val_loss: 0.3395\n",
            "Epoch 3/30\n",
            "\u001b[1m200/200\u001b[0m \u001b[32m━━━━━━━━━━━━━━━━━━━━\u001b[0m\u001b[37m\u001b[0m \u001b[1m1s\u001b[0m 3ms/step - accuracy: 0.8752 - loss: 0.3474 - val_accuracy: 0.8868 - val_loss: 0.3191\n",
            "Epoch 4/30\n",
            "\u001b[1m200/200\u001b[0m \u001b[32m━━━━━━━━━━━━━━━━━━━━\u001b[0m\u001b[37m\u001b[0m \u001b[1m1s\u001b[0m 3ms/step - accuracy: 0.8981 - loss: 0.3005 - val_accuracy: 0.8901 - val_loss: 0.3088\n",
            "Epoch 5/30\n",
            "\u001b[1m200/200\u001b[0m \u001b[32m━━━━━━━━━━━━━━━━━━━━\u001b[0m\u001b[37m\u001b[0m \u001b[1m1s\u001b[0m 3ms/step - accuracy: 0.8908 - loss: 0.3020 - val_accuracy: 0.8905 - val_loss: 0.3002\n",
            "Epoch 6/30\n",
            "\u001b[1m200/200\u001b[0m \u001b[32m━━━━━━━━━━━━━━━━━━━━\u001b[0m\u001b[37m\u001b[0m \u001b[1m1s\u001b[0m 3ms/step - accuracy: 0.8954 - loss: 0.2940 - val_accuracy: 0.8938 - val_loss: 0.2952\n",
            "Epoch 7/30\n",
            "\u001b[1m200/200\u001b[0m \u001b[32m━━━━━━━━━━━━━━━━━━━━\u001b[0m\u001b[37m\u001b[0m \u001b[1m1s\u001b[0m 3ms/step - accuracy: 0.8989 - loss: 0.2848 - val_accuracy: 0.8963 - val_loss: 0.2897\n",
            "Epoch 8/30\n",
            "\u001b[1m200/200\u001b[0m \u001b[32m━━━━━━━━━━━━━━━━━━━━\u001b[0m\u001b[37m\u001b[0m \u001b[1m1s\u001b[0m 3ms/step - accuracy: 0.9011 - loss: 0.2707 - val_accuracy: 0.8983 - val_loss: 0.2835\n",
            "Epoch 9/30\n",
            "\u001b[1m200/200\u001b[0m \u001b[32m━━━━━━━━━━━━━━━━━━━━\u001b[0m\u001b[37m\u001b[0m \u001b[1m1s\u001b[0m 2ms/step - accuracy: 0.9018 - loss: 0.2739 - val_accuracy: 0.9002 - val_loss: 0.2816\n",
            "Epoch 10/30\n",
            "\u001b[1m200/200\u001b[0m \u001b[32m━━━━━━━━━━━━━━━━━━━━\u001b[0m\u001b[37m\u001b[0m \u001b[1m1s\u001b[0m 3ms/step - accuracy: 0.8977 - loss: 0.2758 - val_accuracy: 0.9016 - val_loss: 0.2761\n",
            "Epoch 11/30\n",
            "\u001b[1m200/200\u001b[0m \u001b[32m━━━━━━━━━━━━━━━━━━━━\u001b[0m\u001b[37m\u001b[0m \u001b[1m1s\u001b[0m 5ms/step - accuracy: 0.8958 - loss: 0.2743 - val_accuracy: 0.9008 - val_loss: 0.2741\n",
            "Epoch 12/30\n",
            "\u001b[1m200/200\u001b[0m \u001b[32m━━━━━━━━━━━━━━━━━━━━\u001b[0m\u001b[37m\u001b[0m \u001b[1m1s\u001b[0m 3ms/step - accuracy: 0.9010 - loss: 0.2726 - val_accuracy: 0.9044 - val_loss: 0.2709\n",
            "Epoch 13/30\n",
            "\u001b[1m200/200\u001b[0m \u001b[32m━━━━━━━━━━━━━━━━━━━━\u001b[0m\u001b[37m\u001b[0m \u001b[1m1s\u001b[0m 3ms/step - accuracy: 0.9014 - loss: 0.2718 - val_accuracy: 0.9065 - val_loss: 0.2691\n",
            "Epoch 14/30\n",
            "\u001b[1m200/200\u001b[0m \u001b[32m━━━━━━━━━━━━━━━━━━━━\u001b[0m\u001b[37m\u001b[0m \u001b[1m1s\u001b[0m 3ms/step - accuracy: 0.9070 - loss: 0.2552 - val_accuracy: 0.9055 - val_loss: 0.2667\n",
            "Epoch 15/30\n",
            "\u001b[1m200/200\u001b[0m \u001b[32m━━━━━━━━━━━━━━━━━━━━\u001b[0m\u001b[37m\u001b[0m \u001b[1m1s\u001b[0m 3ms/step - accuracy: 0.9043 - loss: 0.2568 - val_accuracy: 0.9060 - val_loss: 0.2623\n",
            "Epoch 16/30\n",
            "\u001b[1m200/200\u001b[0m \u001b[32m━━━━━━━━━━━━━━━━━━━━\u001b[0m\u001b[37m\u001b[0m \u001b[1m1s\u001b[0m 3ms/step - accuracy: 0.9056 - loss: 0.2542 - val_accuracy: 0.9087 - val_loss: 0.2615\n",
            "Epoch 17/30\n",
            "\u001b[1m200/200\u001b[0m \u001b[32m━━━━━━━━━━━━━━━━━━━━\u001b[0m\u001b[37m\u001b[0m \u001b[1m1s\u001b[0m 3ms/step - accuracy: 0.9112 - loss: 0.2446 - val_accuracy: 0.9093 - val_loss: 0.2598\n",
            "Epoch 18/30\n",
            "\u001b[1m200/200\u001b[0m \u001b[32m━━━━━━━━━━━━━━━━━━━━\u001b[0m\u001b[37m\u001b[0m \u001b[1m1s\u001b[0m 3ms/step - accuracy: 0.9088 - loss: 0.2508 - val_accuracy: 0.9082 - val_loss: 0.2579\n",
            "Epoch 19/30\n",
            "\u001b[1m200/200\u001b[0m \u001b[32m━━━━━━━━━━━━━━━━━━━━\u001b[0m\u001b[37m\u001b[0m \u001b[1m1s\u001b[0m 3ms/step - accuracy: 0.9128 - loss: 0.2409 - val_accuracy: 0.9094 - val_loss: 0.2552\n",
            "Epoch 20/30\n",
            "\u001b[1m200/200\u001b[0m \u001b[32m━━━━━━━━━━━━━━━━━━━━\u001b[0m\u001b[37m\u001b[0m \u001b[1m1s\u001b[0m 3ms/step - accuracy: 0.9115 - loss: 0.2447 - val_accuracy: 0.9098 - val_loss: 0.2540\n",
            "Epoch 21/30\n",
            "\u001b[1m200/200\u001b[0m \u001b[32m━━━━━━━━━━━━━━━━━━━━\u001b[0m\u001b[37m\u001b[0m \u001b[1m1s\u001b[0m 3ms/step - accuracy: 0.9139 - loss: 0.2380 - val_accuracy: 0.9105 - val_loss: 0.2510\n",
            "Epoch 22/30\n",
            "\u001b[1m200/200\u001b[0m \u001b[32m━━━━━━━━━━━━━━━━━━━━\u001b[0m\u001b[37m\u001b[0m \u001b[1m1s\u001b[0m 3ms/step - accuracy: 0.9138 - loss: 0.2377 - val_accuracy: 0.9105 - val_loss: 0.2512\n",
            "Epoch 23/30\n",
            "\u001b[1m200/200\u001b[0m \u001b[32m━━━━━━━━━━━━━━━━━━━━\u001b[0m\u001b[37m\u001b[0m \u001b[1m1s\u001b[0m 3ms/step - accuracy: 0.9157 - loss: 0.2400 - val_accuracy: 0.9118 - val_loss: 0.2477\n",
            "Epoch 24/30\n",
            "\u001b[1m200/200\u001b[0m \u001b[32m━━━━━━━━━━━━━━━━━━━━\u001b[0m\u001b[37m\u001b[0m \u001b[1m1s\u001b[0m 3ms/step - accuracy: 0.9173 - loss: 0.2399 - val_accuracy: 0.9130 - val_loss: 0.2484\n",
            "Epoch 25/30\n",
            "\u001b[1m200/200\u001b[0m \u001b[32m━━━━━━━━━━━━━━━━━━━━\u001b[0m\u001b[37m\u001b[0m \u001b[1m1s\u001b[0m 3ms/step - accuracy: 0.9208 - loss: 0.2250 - val_accuracy: 0.9110 - val_loss: 0.2477\n",
            "Epoch 26/30\n",
            "\u001b[1m200/200\u001b[0m \u001b[32m━━━━━━━━━━━━━━━━━━━━\u001b[0m\u001b[37m\u001b[0m \u001b[1m1s\u001b[0m 3ms/step - accuracy: 0.9179 - loss: 0.2314 - val_accuracy: 0.9113 - val_loss: 0.2436\n",
            "Epoch 27/30\n",
            "\u001b[1m200/200\u001b[0m \u001b[32m━━━━━━━━━━━━━━━━━━━━\u001b[0m\u001b[37m\u001b[0m \u001b[1m1s\u001b[0m 3ms/step - accuracy: 0.9097 - loss: 0.2452 - val_accuracy: 0.9119 - val_loss: 0.2429\n",
            "Epoch 28/30\n",
            "\u001b[1m200/200\u001b[0m \u001b[32m━━━━━━━━━━━━━━━━━━━━\u001b[0m\u001b[37m\u001b[0m \u001b[1m1s\u001b[0m 3ms/step - accuracy: 0.9192 - loss: 0.2212 - val_accuracy: 0.9140 - val_loss: 0.2413\n",
            "Epoch 29/30\n",
            "\u001b[1m200/200\u001b[0m \u001b[32m━━━━━━━━━━━━━━━━━━━━\u001b[0m\u001b[37m\u001b[0m \u001b[1m1s\u001b[0m 3ms/step - accuracy: 0.9161 - loss: 0.2240 - val_accuracy: 0.9141 - val_loss: 0.2390\n",
            "Epoch 30/30\n",
            "\u001b[1m200/200\u001b[0m \u001b[32m━━━━━━━━━━━━━━━━━━━━\u001b[0m\u001b[37m\u001b[0m \u001b[1m1s\u001b[0m 3ms/step - accuracy: 0.9231 - loss: 0.2193 - val_accuracy: 0.9129 - val_loss: 0.2388\n"
          ]
        }
      ]
    },
    {
      "cell_type": "code",
      "source": [
        "import matplotlib.pyplot as plt\n",
        "\n",
        "# Plotting Training and Validation Accuracy\n",
        "plt.figure(figsize=(12, 5))\n",
        "\n",
        "# Accuracy plot\n",
        "plt.subplot(1, 2, 1)\n",
        "plt.plot(history.history['accuracy'], label='Training Accuracy', marker='o', linestyle='-')\n",
        "plt.plot(history.history['val_accuracy'], label='Validation Accuracy', marker='x', linestyle='--')\n",
        "plt.title('Training and Validation Accuracy')\n",
        "plt.xlabel('Epoch')\n",
        "plt.ylabel('Accuracy')\n",
        "plt.legend()\n",
        "\n",
        "# Loss plot\n",
        "plt.subplot(1, 2, 2)\n",
        "plt.plot(history.history['loss'], label='Training Loss', marker='o', linestyle='-')\n",
        "plt.plot(history.history['val_loss'], label='Validation Loss', marker='x', linestyle='--')\n",
        "plt.title('Training and Validation Loss')\n",
        "plt.xlabel('Epoch')\n",
        "plt.ylabel('Loss')\n",
        "plt.legend()\n",
        "\n",
        "plt.tight_layout()\n",
        "plt.show()\n"
      ],
      "metadata": {
        "colab": {
          "base_uri": "https://localhost:8080/",
          "height": 490
        },
        "id": "ZxoaP5jgeewK",
        "outputId": "431246de-1019-48f1-873c-be997940f264"
      },
      "execution_count": 26,
      "outputs": [
        {
          "output_type": "display_data",
          "data": {
            "text/plain": [
              "<Figure size 1200x500 with 2 Axes>"
            ],
            "image/png": "[encoded data removed]"
          },
          "metadata": {}
        }
      ]
    },
    {
      "cell_type": "code",
      "source": [
        "test_loss, test_accuracy = model.evaluate(X_test, y_test)\n",
        "print(f\"Test Accuracy: {test_accuracy:.4f}\")\n",
        "print(f\"Test loss:{test_loss:.4f}\")"
      ],
      "metadata": {
        "colab": {
          "base_uri": "https://localhost:8080/"
        },
        "id": "F4OkWnhReyRi",
        "outputId": "9073d72b-5345-4536-c980-a4737f77217a"
      },
      "execution_count": 27,
      "outputs": [
        {
          "output_type": "stream",
          "name": "stdout",
          "text": [
            "\u001b[1m200/200\u001b[0m \u001b[32m━━━━━━━━━━━━━━━━━━━━\u001b[0m\u001b[37m\u001b[0m \u001b[1m0s\u001b[0m 1ms/step - accuracy: 0.9127 - loss: 0.2411\n",
            "Test Accuracy: 0.9129\n",
            "Test loss:0.2388\n"
          ]
        }
      ]
    },
    {
      "cell_type": "code",
      "source": [
        "# Predict Probabilities\n",
        "y_pred_prob = model.predict(X_test)\n",
        "\n",
        "# Convert Probabilities to Binary Labels (Threshold = 0.5)\n",
        "y_pred = (y_pred_prob > 0.5).astype(int)  # Convert True/False to 1/0\n"
      ],
      "metadata": {
        "colab": {
          "base_uri": "https://localhost:8080/"
        },
        "id": "QgV_RIRre-FF",
        "outputId": "86377b39-56c1-4c88-e0fb-f66ee774b429"
      },
      "execution_count": 28,
      "outputs": [
        {
          "output_type": "stream",
          "name": "stdout",
          "text": [
            "\u001b[1m200/200\u001b[0m \u001b[32m━━━━━━━━━━━━━━━━━━━━\u001b[0m\u001b[37m\u001b[0m \u001b[1m0s\u001b[0m 950us/step\n"
          ]
        }
      ]
    },
    {
      "cell_type": "code",
      "source": [
        "accuracy = accuracy_score(y_test, y_pred)\n",
        "precision = precision_score(y_test, y_pred)\n",
        "recall = recall_score(y_test, y_pred)\n",
        "f1 = f1_score(y_test, y_pred)\n",
        "\n",
        "print(f\"Accuracy: {accuracy:.4f}\")\n",
        "print(f\"Precision: {precision:.4f}\")\n",
        "print(f\"Recall: {recall:.4f}\")\n",
        "print(f\"F1 Score: {f1:.4f}\")\n",
        "\n",
        "print(\"Classification Report:\")\n",
        "print(classification_report(y_test, y_pred))\n",
        "\n",
        "print(\"confusion matrix:\")\n",
        "cm = confusion_matrix(y_test, y_pred)\n",
        "sns.set(rc={\"figure.figsize\": (4, 3)})\n",
        "sns.heatmap(cm, annot=True, cmap='Blues', fmt='d')"
      ],
      "metadata": {
        "colab": {
          "base_uri": "https://localhost:8080/",
          "height": 574
        },
        "id": "F_Lj9lqCfKEd",
        "outputId": "0eb906c1-e321-48d9-d9f2-fe5b9f383bc1"
      },
      "execution_count": 29,
      "outputs": [
        {
          "output_type": "stream",
          "name": "stdout",
          "text": [
            "Accuracy: 0.9129\n",
            "Precision: 0.9269\n",
            "Recall: 0.8985\n",
            "F1 Score: 0.9125\n",
            "Classification Report:\n",
            "              precision    recall  f1-score   support\n",
            "\n",
            "           0       0.90      0.93      0.91      3161\n",
            "           1       0.93      0.90      0.91      3233\n",
            "\n",
            "    accuracy                           0.91      6394\n",
            "   macro avg       0.91      0.91      0.91      6394\n",
            "weighted avg       0.91      0.91      0.91      6394\n",
            "\n",
            "confusion matrix:\n"
          ]
        },
        {
          "output_type": "execute_result",
          "data": {
            "text/plain": [
              "<Axes: >"
            ]
          },
          "metadata": {},
          "execution_count": 29
        },
        {
          "output_type": "display_data",
          "data": {
            "text/plain": [
              "<Figure size 400x300 with 2 Axes>"
            ],
            "image/png": "[encoded data removed]"
          },
          "metadata": {}
        }
      ]
    },
    {
      "cell_type": "markdown",
      "source": [
        "CAT boos"
      ],
      "metadata": {
        "id": "P_nT0NAvjCdD"
      }
    },
    {
      "cell_type": "code",
      "source": [
        "!pip install --upgrade catboost"
      ],
      "metadata": {
        "colab": {
          "base_uri": "https://localhost:8080/"
        },
        "id": "nvDRCnB5fYUT",
        "outputId": "b43c31aa-9f09-4245-feb0-a2bdf1f0ffb8"
      },
      "execution_count": 30,
      "outputs": [
        {
          "output_type": "stream",
          "name": "stdout",
          "text": [
            "Requirement already satisfied: catboost in /usr/local/lib/python3.11/dist-packages (1.2.8)\n",
            "Requirement already satisfied: graphviz in /usr/local/lib/python3.11/dist-packages (from catboost) (0.20.3)\n",
            "Requirement already satisfied: matplotlib in /usr/local/lib/python3.11/dist-packages (from catboost) (3.10.0)\n",
            "Requirement already satisfied: numpy<3.0,>=1.16.0 in /usr/local/lib/python3.11/dist-packages (from catboost) (2.0.2)\n",
            "Requirement already satisfied: pandas>=0.24 in /usr/local/lib/python3.11/dist-packages (from catboost) (2.2.2)\n",
            "Requirement already satisfied: scipy in /usr/local/lib/python3.11/dist-packages (from catboost) (1.14.1)\n",
            "Requirement already satisfied: plotly in /usr/local/lib/python3.11/dist-packages (from catboost) (5.24.1)\n",
            "Requirement already satisfied: six in /usr/local/lib/python3.11/dist-packages (from catboost) (1.17.0)\n",
            "Requirement already satisfied: python-dateutil>=2.8.2 in /usr/local/lib/python3.11/dist-packages (from pandas>=0.24->catboost) (2.8.2)\n",
            "Requirement already satisfied: pytz>=2020.1 in /usr/local/lib/python3.11/dist-packages (from pandas>=0.24->catboost) (2025.2)\n",
            "Requirement already satisfied: tzdata>=2022.7 in /usr/local/lib/python3.11/dist-packages (from pandas>=0.24->catboost) (2025.2)\n",
            "Requirement already satisfied: contourpy>=1.0.1 in /usr/local/lib/python3.11/dist-packages (from matplotlib->catboost) (1.3.1)\n",
            "Requirement already satisfied: cycler>=0.10 in /usr/local/lib/python3.11/dist-packages (from matplotlib->catboost) (0.12.1)\n",
            "Requirement already satisfied: fonttools>=4.22.0 in /usr/local/lib/python3.11/dist-packages (from matplotlib->catboost) (4.57.0)\n",
            "Requirement already satisfied: kiwisolver>=1.3.1 in /usr/local/lib/python3.11/dist-packages (from matplotlib->catboost) (1.4.8)\n",
            "Requirement already satisfied: packaging>=20.0 in /usr/local/lib/python3.11/dist-packages (from matplotlib->catboost) (24.2)\n",
            "Requirement already satisfied: pillow>=8 in /usr/local/lib/python3.11/dist-packages (from matplotlib->catboost) (11.1.0)\n",
            "Requirement already satisfied: pyparsing>=2.3.1 in /usr/local/lib/python3.11/dist-packages (from matplotlib->catboost) (3.2.3)\n",
            "Requirement already satisfied: tenacity>=6.2.0 in /usr/local/lib/python3.11/dist-packages (from plotly->catboost) (9.1.2)\n"
          ]
        }
      ]
    },
    {
      "cell_type": "code",
      "source": [
        "from catboost import CatBoostClassifier\n",
        "cat_model = CatBoostClassifier(\n",
        "    iterations=500,   # Reduce total trees (default is 1000+)\n",
        "    depth=5,          # Reduce depth (default 6-10)\n",
        "    l2_leaf_reg=8,    # Increase L2 regularization\n",
        "    learning_rate=0.05,  # Reduce learning rate\n",
        "    random_seed=42,\n",
        "    verbose=100\n",
        ")\n",
        "cat_model.fit(X_train, y_train)\n",
        "y_pred = cat_model.predict(X_test)\n",
        "\n",
        "print(f'Training Accuracy of CatBoost is {accuracy_score(y_train, cat_model.predict(X_train))}\\n')\n",
        "\n",
        "cat_accuracy = accuracy_score(y_test, y_pred)\n",
        "cat_precision = precision_score(y_test, y_pred, average='macro')\n",
        "cat_recall = recall_score(y_test, y_pred, average='macro')\n",
        "cat_f1_score = f1_score(y_test, y_pred, average='macro')\n",
        "\n",
        "#print(f\"Confusion Matrix: \\n{confusion_matrix(y_test, y_pred)}\\n\")\n",
        "print(f\"Test Accuracy of CatBoost is {cat_accuracy} \\n\")\n",
        "print(f\"Test Precision of CatBoost is {cat_precision} \\n\")\n",
        "print(f\"Test Recall of CatBoost is {cat_recall} \\n\")\n",
        "print(f\"Test F1_score of CatBoost is {cat_f1_score} \\n\")\n",
        "print(f\"Classification Report: \\n{classification_report(y_test, y_pred)}\")\n",
        "cm = confusion_matrix(y_test, y_pred)\n",
        "sns.set(rc={\"figure.figsize\": (4, 3)})\n",
        "sns.heatmap(cm, annot=True, cmap='Blues', fmt='d')"
      ],
      "metadata": {
        "colab": {
          "base_uri": "https://localhost:8080/",
          "height": 767
        },
        "id": "5KapZSa8fonG",
        "outputId": "a6149583-25da-4f55-a871-8c098223d08d"
      },
      "execution_count": 31,
      "outputs": [
        {
          "output_type": "stream",
          "name": "stdout",
          "text": [
            "0:\tlearn: 0.6504550\ttotal: 49.7ms\tremaining: 24.8s\n",
            "100:\tlearn: 0.2307355\ttotal: 560ms\tremaining: 2.21s\n",
            "200:\tlearn: 0.1878008\ttotal: 1.14s\tremaining: 1.7s\n",
            "300:\tlearn: 0.1576696\ttotal: 1.77s\tremaining: 1.17s\n",
            "400:\tlearn: 0.1372326\ttotal: 2.45s\tremaining: 605ms\n",
            "499:\tlearn: 0.1211381\ttotal: 3.07s\tremaining: 0us\n",
            "Training Accuracy of CatBoost is 0.9640287769784173\n",
            "\n",
            "Test Accuracy of CatBoost is 0.9375977478886456 \n",
            "\n",
            "Test Precision of CatBoost is 0.938727358642244 \n",
            "\n",
            "Test Recall of CatBoost is 0.9379051134824135 \n",
            "\n",
            "Test F1_score of CatBoost is 0.937580267777379 \n",
            "\n",
            "Classification Report: \n",
            "              precision    recall  f1-score   support\n",
            "\n",
            "           0       0.91      0.97      0.94      3161\n",
            "           1       0.96      0.91      0.94      3233\n",
            "\n",
            "    accuracy                           0.94      6394\n",
            "   macro avg       0.94      0.94      0.94      6394\n",
            "weighted avg       0.94      0.94      0.94      6394\n",
            "\n"
          ]
        },
        {
          "output_type": "execute_result",
          "data": {
            "text/plain": [
              "<Axes: >"
            ]
          },
          "metadata": {},
          "execution_count": 31
        },
        {
          "output_type": "display_data",
          "data": {
            "text/plain": [
              "<Figure size 400x300 with 2 Axes>"
            ],
            "image/png": "[encoded data removed]"
          },
          "metadata": {}
        }
      ]
    },
    {
      "cell_type": "markdown",
      "source": [
        "SVM"
      ],
      "metadata": {
        "id": "9W0jXl4yjGpk"
      }
    },
    {
      "cell_type": "code",
      "source": [
        "from sklearn.svm import SVC\n",
        "\n",
        "svm = SVC(probability=True)\n",
        "svm.fit(X_train, y_train)\n",
        "y_pred = svm.predict(X_test)\n",
        "\n",
        "print(f'Training Accuracy of SVM is {accuracy_score(y_train, svm.predict(X_train))}\\n')\n",
        "\n",
        "svm_accuracy = accuracy_score(y_test, y_pred)\n",
        "svm_precision = precision_score(y_test, y_pred, average='macro')\n",
        "svm_recall = recall_score(y_test, y_pred, average='macro')\n",
        "svm_f1_score = f1_score(y_test, y_pred, average='macro')\n",
        "\n",
        "print(f\"Test Accuracy of SVM is {svm_accuracy} \\n\")\n",
        "print(f\"Test Precision of SVM is {svm_precision} \\n\")\n",
        "print(f\"Test Recall of SVM is {svm_recall} \\n\")\n",
        "print(f\"Test F1_score of SVM is {svm_f1_score} \\n\")\n",
        "print(f\"Classification Report: \\n{classification_report(y_test, y_pred)}\")\n",
        "cm = confusion_matrix(y_test, y_pred)\n",
        "sns.set(rc={\"figure.figsize\": (4, 3)})\n",
        "sns.heatmap(cm, annot=True, cmap='Blues', fmt='d')"
      ],
      "metadata": {
        "colab": {
          "base_uri": "https://localhost:8080/",
          "height": 660
        },
        "id": "ax_Hj6lAjFu0",
        "outputId": "04d4d2a2-f041-43e2-afaa-f70ea13a5b3a"
      },
      "execution_count": 32,
      "outputs": [
        {
          "output_type": "stream",
          "name": "stdout",
          "text": [
            "Training Accuracy of SVM is 0.9033468877072255\n",
            "\n",
            "Test Accuracy of SVM is 0.9017829214888958 \n",
            "\n",
            "Test Precision of SVM is 0.9021136739063933 \n",
            "\n",
            "Test Recall of SVM is 0.9019606902990387 \n",
            "\n",
            "Test F1_score of SVM is 0.9017798079053978 \n",
            "\n",
            "Classification Report: \n",
            "              precision    recall  f1-score   support\n",
            "\n",
            "           0       0.89      0.92      0.90      3161\n",
            "           1       0.92      0.89      0.90      3233\n",
            "\n",
            "    accuracy                           0.90      6394\n",
            "   macro avg       0.90      0.90      0.90      6394\n",
            "weighted avg       0.90      0.90      0.90      6394\n",
            "\n"
          ]
        },
        {
          "output_type": "execute_result",
          "data": {
            "text/plain": [
              "<Axes: >"
            ]
          },
          "metadata": {},
          "execution_count": 32
        },
        {
          "output_type": "display_data",
          "data": {
            "text/plain": [
              "<Figure size 400x300 with 2 Axes>"
            ],
            "image/png": "[encoded data removed]"
          },
          "metadata": {}
        }
      ]
    },
    {
      "cell_type": "markdown",
      "source": [
        "accuracy ranking"
      ],
      "metadata": {
        "id": "yb0OdyiLrdfr"
      }
    },
    {
      "cell_type": "code",
      "source": [
        "import plotly.express as px"
      ],
      "metadata": {
        "id": "NMHz8Iozrg6d"
      },
      "execution_count": 33,
      "outputs": []
    },
    {
      "cell_type": "code",
      "source": [
        "accuracy = pd.DataFrame({\n",
        "    'Model': ['KNN', 'Logistic Regression', 'SVM', 'Random Forest', 'AdaBoost', 'XGBoost', 'CatBoost', 'MLP'],\n",
        "    'Score': [knn_accuracy, logreg_accuracy, svm_accuracy, rfc_accuracy, ada_accuracy, xgb_accuracy, cat_accuracy,mlp_accuracy]})\n",
        "accuracy_sorted = accuracy.sort_values(by='Score', ascending=False)\n",
        "fig = px.bar(data_frame=accuracy_sorted, x='Model', y='Score', color='Score',\n",
        "             title='Accuracy Comparison', text='Score')\n",
        "fig.update_layout(width=800, height=600)\n",
        "fig.show()"
      ],
      "metadata": {
        "colab": {
          "base_uri": "https://localhost:8080/",
          "height": 617
        },
        "id": "sAM_ABX4rcLN",
        "outputId": "58dcfc25-0339-40b8-8eac-eb5983c79ebb"
      },
      "execution_count": 34,
      "outputs": [
        {
          "output_type": "display_data",
          "data": {
            "text/html": [
              "<html>\n",
              "<head><meta charset=\"utf-8\" /></head>\n",
              "<body>\n",
              "    <div>            <script src=\"https://cdnjs.cloudflare.com/ajax/libs/mathjax/2.7.5/MathJax.js?config=TeX-AMS-MML_SVG\"></script><script type=\"text/javascript\">if (window.MathJax && window.MathJax.Hub && window.MathJax.Hub.Config) {window.MathJax.Hub.Config({SVG: {font: \"STIX-Web\"}});}</script>                <script type=\"text/javascript\">window.PlotlyConfig = {MathJaxConfig: 'local'};</script>\n",
              "        <script charset=\"utf-8\" src=\"https://cdn.plot.ly/plotly-2.35.2.min.js\"></script>                <div id=\"264bd5ad-5109-496a-80a4-a11eb7d920af\" class=\"plotly-graph-div\" style=\"height:600px; width:800px;\"></div>            <script type=\"text/javascript\">                                    window.PLOTLYENV=window.PLOTLYENV || {};                                    if (document.getElementById(\"264bd5ad-5109-496a-80a4-a11eb7d920af\")) {                    Plotly.newPlot(                        \"264bd5ad-5109-496a-80a4-a11eb7d920af\",                        [{\"alignmentgroup\":\"True\",\"hovertemplate\":\"Model=%{x}\\u003cbr\\u003eScore=%{marker.color}\\u003cextra\\u003e\\u003c\\u002fextra\\u003e\",\"legendgroup\":\"\",\"marker\":{\"color\":[0.9375977478886456,0.9325930559899906,0.9239912417891774,0.9214888958398498,0.9122614951517047,0.9017829214888958,0.8923991241789178,0.8877072255239287],\"coloraxis\":\"coloraxis\",\"pattern\":{\"shape\":\"\"}},\"name\":\"\",\"offsetgroup\":\"\",\"orientation\":\"v\",\"showlegend\":false,\"text\":[0.9375977478886456,0.9325930559899906,0.9239912417891774,0.9214888958398498,0.9122614951517047,0.9017829214888958,0.8923991241789178,0.8877072255239287],\"textposition\":\"auto\",\"x\":[\"CatBoost\",\"KNN\",\"Random Forest\",\"MLP\",\"XGBoost\",\"SVM\",\"Logistic Regression\",\"AdaBoost\"],\"xaxis\":\"x\",\"y\":[0.9375977478886456,0.9325930559899906,0.9239912417891774,0.9214888958398498,0.9122614951517047,0.9017829214888958,0.8923991241789178,0.8877072255239287],\"yaxis\":\"y\",\"type\":\"bar\"}],                        {\"template\":{\"data\":{\"histogram2dcontour\":[{\"type\":\"histogram2dcontour\",\"colorbar\":{\"outlinewidth\":0,\"ticks\":\"\"},\"colorscale\":[[0.0,\"#0d0887\"],[0.1111111111111111,\"#46039f\"],[0.2222222222222222,\"#7201a8\"],[0.3333333333333333,\"#9c179e\"],[0.4444444444444444,\"#bd3786\"],[0.5555555555555556,\"#d8576b\"],[0.6666666666666666,\"#ed7953\"],[0.7777777777777778,\"#fb9f3a\"],[0.8888888888888888,\"#fdca26\"],[1.0,\"#f0f921\"]]}],\"choropleth\":[{\"type\":\"choropleth\",\"colorbar\":{\"outlinewidth\":0,\"ticks\":\"\"}}],\"histogram2d\":[{\"type\":\"histogram2d\",\"colorbar\":{\"outlinewidth\":0,\"ticks\":\"\"},\"colorscale\":[[0.0,\"#0d0887\"],[0.1111111111111111,\"#46039f\"],[0.2222222222222222,\"#7201a8\"],[0.3333333333333333,\"#9c179e\"],[0.4444444444444444,\"#bd3786\"],[0.5555555555555556,\"#d8576b\"],[0.6666666666666666,\"#ed7953\"],[0.7777777777777778,\"#fb9f3a\"],[0.8888888888888888,\"#fdca26\"],[1.0,\"#f0f921\"]]}],\"heatmap\":[{\"type\":\"heatmap\",\"colorbar\":{\"outlinewidth\":0,\"ticks\":\"\"},\"colorscale\":[[0.0,\"#0d0887\"],[0.1111111111111111,\"#46039f\"],[0.2222222222222222,\"#7201a8\"],[0.3333333333333333,\"#9c179e\"],[0.4444444444444444,\"#bd3786\"],[0.5555555555555556,\"#d8576b\"],[0.6666666666666666,\"#ed7953\"],[0.7777777777777778,\"#fb9f3a\"],[0.8888888888888888,\"#fdca26\"],[1.0,\"#f0f921\"]]}],\"heatmapgl\":[{\"type\":\"heatmapgl\",\"colorbar\":{\"outlinewidth\":0,\"ticks\":\"\"},\"colorscale\":[[0.0,\"#0d0887\"],[0.1111111111111111,\"#46039f\"],[0.2222222222222222,\"#7201a8\"],[0.3333333333333333,\"#9c179e\"],[0.4444444444444444,\"#bd3786\"],[0.5555555555555556,\"#d8576b\"],[0.6666666666666666,\"#ed7953\"],[0.7777777777777778,\"#fb9f3a\"],[0.8888888888888888,\"#fdca26\"],[1.0,\"#f0f921\"]]}],\"contourcarpet\":[{\"type\":\"contourcarpet\",\"colorbar\":{\"outlinewidth\":0,\"ticks\":\"\"}}],\"contour\":[{\"type\":\"contour\",\"colorbar\":{\"outlinewidth\":0,\"ticks\":\"\"},\"colorscale\":[[0.0,\"#0d0887\"],[0.1111111111111111,\"#46039f\"],[0.2222222222222222,\"#7201a8\"],[0.3333333333333333,\"#9c179e\"],[0.4444444444444444,\"#bd3786\"],[0.5555555555555556,\"#d8576b\"],[0.6666666666666666,\"#ed7953\"],[0.7777777777777778,\"#fb9f3a\"],[0.8888888888888888,\"#fdca26\"],[1.0,\"#f0f921\"]]}],\"surface\":[{\"type\":\"surface\",\"colorbar\":{\"outlinewidth\":0,\"ticks\":\"\"},\"colorscale\":[[0.0,\"#0d0887\"],[0.1111111111111111,\"#46039f\"],[0.2222222222222222,\"#7201a8\"],[0.3333333333333333,\"#9c179e\"],[0.4444444444444444,\"#bd3786\"],[0.5555555555555556,\"#d8576b\"],[0.6666666666666666,\"#ed7953\"],[0.7777777777777778,\"#fb9f3a\"],[0.8888888888888888,\"#fdca26\"],[1.0,\"#f0f921\"]]}],\"mesh3d\":[{\"type\":\"mesh3d\",\"colorbar\":{\"outlinewidth\":0,\"ticks\":\"\"}}],\"scatter\":[{\"fillpattern\":{\"fillmode\":\"overlay\",\"size\":10,\"solidity\":0.2},\"type\":\"scatter\"}],\"parcoords\":[{\"type\":\"parcoords\",\"line\":{\"colorbar\":{\"outlinewidth\":0,\"ticks\":\"\"}}}],\"scatterpolargl\":[{\"type\":\"scatterpolargl\",\"marker\":{\"colorbar\":{\"outlinewidth\":0,\"ticks\":\"\"}}}],\"bar\":[{\"error_x\":{\"color\":\"#2a3f5f\"},\"error_y\":{\"color\":\"#2a3f5f\"},\"marker\":{\"line\":{\"color\":\"#E5ECF6\",\"width\":0.5},\"pattern\":{\"fillmode\":\"overlay\",\"size\":10,\"solidity\":0.2}},\"type\":\"bar\"}],\"scattergeo\":[{\"type\":\"scattergeo\",\"marker\":{\"colorbar\":{\"outlinewidth\":0,\"ticks\":\"\"}}}],\"scatterpolar\":[{\"type\":\"scatterpolar\",\"marker\":{\"colorbar\":{\"outlinewidth\":0,\"ticks\":\"\"}}}],\"histogram\":[{\"marker\":{\"pattern\":{\"fillmode\":\"overlay\",\"size\":10,\"solidity\":0.2}},\"type\":\"histogram\"}],\"scattergl\":[{\"type\":\"scattergl\",\"marker\":{\"colorbar\":{\"outlinewidth\":0,\"ticks\":\"\"}}}],\"scatter3d\":[{\"type\":\"scatter3d\",\"line\":{\"colorbar\":{\"outlinewidth\":0,\"ticks\":\"\"}},\"marker\":{\"colorbar\":{\"outlinewidth\":0,\"ticks\":\"\"}}}],\"scattermapbox\":[{\"type\":\"scattermapbox\",\"marker\":{\"colorbar\":{\"outlinewidth\":0,\"ticks\":\"\"}}}],\"scatterternary\":[{\"type\":\"scatterternary\",\"marker\":{\"colorbar\":{\"outlinewidth\":0,\"ticks\":\"\"}}}],\"scattercarpet\":[{\"type\":\"scattercarpet\",\"marker\":{\"colorbar\":{\"outlinewidth\":0,\"ticks\":\"\"}}}],\"carpet\":[{\"aaxis\":{\"endlinecolor\":\"#2a3f5f\",\"gridcolor\":\"white\",\"linecolor\":\"white\",\"minorgridcolor\":\"white\",\"startlinecolor\":\"#2a3f5f\"},\"baxis\":{\"endlinecolor\":\"#2a3f5f\",\"gridcolor\":\"white\",\"linecolor\":\"white\",\"minorgridcolor\":\"white\",\"startlinecolor\":\"#2a3f5f\"},\"type\":\"carpet\"}],\"table\":[{\"cells\":{\"fill\":{\"color\":\"#EBF0F8\"},\"line\":{\"color\":\"white\"}},\"header\":{\"fill\":{\"color\":\"#C8D4E3\"},\"line\":{\"color\":\"white\"}},\"type\":\"table\"}],\"barpolar\":[{\"marker\":{\"line\":{\"color\":\"#E5ECF6\",\"width\":0.5},\"pattern\":{\"fillmode\":\"overlay\",\"size\":10,\"solidity\":0.2}},\"type\":\"barpolar\"}],\"pie\":[{\"automargin\":true,\"type\":\"pie\"}]},\"layout\":{\"autotypenumbers\":\"strict\",\"colorway\":[\"#636efa\",\"#EF553B\",\"#00cc96\",\"#ab63fa\",\"#FFA15A\",\"#19d3f3\",\"#FF6692\",\"#B6E880\",\"#FF97FF\",\"#FECB52\"],\"font\":{\"color\":\"#2a3f5f\"},\"hovermode\":\"closest\",\"hoverlabel\":{\"align\":\"left\"},\"paper_bgcolor\":\"white\",\"plot_bgcolor\":\"#E5ECF6\",\"polar\":{\"bgcolor\":\"#E5ECF6\",\"angularaxis\":{\"gridcolor\":\"white\",\"linecolor\":\"white\",\"ticks\":\"\"},\"radialaxis\":{\"gridcolor\":\"white\",\"linecolor\":\"white\",\"ticks\":\"\"}},\"ternary\":{\"bgcolor\":\"#E5ECF6\",\"aaxis\":{\"gridcolor\":\"white\",\"linecolor\":\"white\",\"ticks\":\"\"},\"baxis\":{\"gridcolor\":\"white\",\"linecolor\":\"white\",\"ticks\":\"\"},\"caxis\":{\"gridcolor\":\"white\",\"linecolor\":\"white\",\"ticks\":\"\"}},\"coloraxis\":{\"colorbar\":{\"outlinewidth\":0,\"ticks\":\"\"}},\"colorscale\":{\"sequential\":[[0.0,\"#0d0887\"],[0.1111111111111111,\"#46039f\"],[0.2222222222222222,\"#7201a8\"],[0.3333333333333333,\"#9c179e\"],[0.4444444444444444,\"#bd3786\"],[0.5555555555555556,\"#d8576b\"],[0.6666666666666666,\"#ed7953\"],[0.7777777777777778,\"#fb9f3a\"],[0.8888888888888888,\"#fdca26\"],[1.0,\"#f0f921\"]],\"sequentialminus\":[[0.0,\"#0d0887\"],[0.1111111111111111,\"#46039f\"],[0.2222222222222222,\"#7201a8\"],[0.3333333333333333,\"#9c179e\"],[0.4444444444444444,\"#bd3786\"],[0.5555555555555556,\"#d8576b\"],[0.6666666666666666,\"#ed7953\"],[0.7777777777777778,\"#fb9f3a\"],[0.8888888888888888,\"#fdca26\"],[1.0,\"#f0f921\"]],\"diverging\":[[0,\"#8e0152\"],[0.1,\"#c51b7d\"],[0.2,\"#de77ae\"],[0.3,\"#f1b6da\"],[0.4,\"#fde0ef\"],[0.5,\"#f7f7f7\"],[0.6,\"#e6f5d0\"],[0.7,\"#b8e186\"],[0.8,\"#7fbc41\"],[0.9,\"#4d9221\"],[1,\"#276419\"]]},\"xaxis\":{\"gridcolor\":\"white\",\"linecolor\":\"white\",\"ticks\":\"\",\"title\":{\"standoff\":15},\"zerolinecolor\":\"white\",\"automargin\":true,\"zerolinewidth\":2},\"yaxis\":{\"gridcolor\":\"white\",\"linecolor\":\"white\",\"ticks\":\"\",\"title\":{\"standoff\":15},\"zerolinecolor\":\"white\",\"automargin\":true,\"zerolinewidth\":2},\"scene\":{\"xaxis\":{\"backgroundcolor\":\"#E5ECF6\",\"gridcolor\":\"white\",\"linecolor\":\"white\",\"showbackground\":true,\"ticks\":\"\",\"zerolinecolor\":\"white\",\"gridwidth\":2},\"yaxis\":{\"backgroundcolor\":\"#E5ECF6\",\"gridcolor\":\"white\",\"linecolor\":\"white\",\"showbackground\":true,\"ticks\":\"\",\"zerolinecolor\":\"white\",\"gridwidth\":2},\"zaxis\":{\"backgroundcolor\":\"#E5ECF6\",\"gridcolor\":\"white\",\"linecolor\":\"white\",\"showbackground\":true,\"ticks\":\"\",\"zerolinecolor\":\"white\",\"gridwidth\":2}},\"shapedefaults\":{\"line\":{\"color\":\"#2a3f5f\"}},\"annotationdefaults\":{\"arrowcolor\":\"#2a3f5f\",\"arrowhead\":0,\"arrowwidth\":1},\"geo\":{\"bgcolor\":\"white\",\"landcolor\":\"#E5ECF6\",\"subunitcolor\":\"white\",\"showland\":true,\"showlakes\":true,\"lakecolor\":\"white\"},\"title\":{\"x\":0.05},\"mapbox\":{\"style\":\"light\"}}},\"xaxis\":{\"anchor\":\"y\",\"domain\":[0.0,1.0],\"title\":{\"text\":\"Model\"}},\"yaxis\":{\"anchor\":\"x\",\"domain\":[0.0,1.0],\"title\":{\"text\":\"Score\"}},\"coloraxis\":{\"colorbar\":{\"title\":{\"text\":\"Score\"}},\"colorscale\":[[0.0,\"#0d0887\"],[0.1111111111111111,\"#46039f\"],[0.2222222222222222,\"#7201a8\"],[0.3333333333333333,\"#9c179e\"],[0.4444444444444444,\"#bd3786\"],[0.5555555555555556,\"#d8576b\"],[0.6666666666666666,\"#ed7953\"],[0.7777777777777778,\"#fb9f3a\"],[0.8888888888888888,\"#fdca26\"],[1.0,\"#f0f921\"]]},\"legend\":{\"tracegroupgap\":0},\"title\":{\"text\":\"Accuracy Comparison\"},\"barmode\":\"relative\",\"width\":800,\"height\":600},                        {\"responsive\": true}                    ).then(function(){\n",
              "                            \n",
              "var gd = document.getElementById('264bd5ad-5109-496a-80a4-a11eb7d920af');\n",
              "var x = new MutationObserver(function (mutations, observer) {{\n",
              "        var display = window.getComputedStyle(gd).display;\n",
              "        if (!display || display === 'none') {{\n",
              "            console.log([gd, 'removed!']);\n",
              "            Plotly.purge(gd);\n",
              "            observer.disconnect();\n",
              "        }}\n",
              "}});\n",
              "\n",
              "// Listen for the removal of the full notebook cells\n",
              "var notebookContainer = gd.closest('#notebook-container');\n",
              "if (notebookContainer) {{\n",
              "    x.observe(notebookContainer, {childList: true});\n",
              "}}\n",
              "\n",
              "// Listen for the clearing of the current output cell\n",
              "var outputEl = gd.closest('.output');\n",
              "if (outputEl) {{\n",
              "    x.observe(outputEl, {childList: true});\n",
              "}}\n",
              "\n",
              "                        })                };                            </script>        </div>\n",
              "</body>\n",
              "</html>"
            ]
          },
          "metadata": {}
        }
      ]
    },
    {
      "cell_type": "markdown",
      "source": [
        "STACKING CLASSIFIER"
      ],
      "metadata": {
        "id": "u720ZNaCseCF"
      }
    },
    {
      "cell_type": "markdown",
      "source": [
        "Random Forest as meta learner"
      ],
      "metadata": {
        "id": "sdY4C3mSG33e"
      }
    },
    {
      "cell_type": "code",
      "source": [
        "from sklearn.ensemble import StackingClassifier\n",
        "from sklearn.linear_model import LogisticRegression\n",
        "from sklearn.calibration import CalibratedClassifierCV\n",
        "\n",
        "# Calibrated SVM to improve probability estimates\n",
        "svm_calibrated = CalibratedClassifierCV(svm, method='sigmoid')\n",
        "svm_calibrated.fit(X_train, y_train)\n",
        "\n",
        "# Define base learners\n",
        "base_learners = [\n",
        "    ('Logistic Regression', logreg),\n",
        "    ('Random Forest', rfc),\n",
        "    ('XGBoost', xgb),\n",
        "    ('CatBoost', cat_model),\n",
        "    ('SVM', svm_calibrated),\n",
        "    ('KNN', knn),\n",
        "    ('MLP', mlp)\n",
        "]\n",
        "\n",
        "# Meta-classifier\n",
        "meta_classifier = LogisticRegression()\n",
        "\n",
        "# Stacking Classifier\n",
        "stacking_clf6 = StackingClassifier(\n",
        "    estimators=base_learners,\n",
        "    final_estimator=meta_classifier,\n",
        "    stack_method='predict_proba',  # Use probabilities as input to meta-classifier\n",
        "    n_jobs=-1  # Utilize all available CPU cores\n",
        ")\n",
        "\n",
        "# Train the stacking classifier\n",
        "stacking_clf6.fit(X_train, y_train)\n",
        "\n",
        "# Make predictions\n",
        "y_pred = stacking_clf6.predict(X_test)\n",
        "\n",
        "# Evaluate performance\n",
        "accuracy = accuracy_score(y_test, y_pred)\n",
        "precision = precision_score(y_test, y_pred, average='macro')\n",
        "recall = recall_score(y_test, y_pred, average='macro')\n",
        "f1 = f1_score(y_test, y_pred, average='macro')\n",
        "\n",
        "print(f\"Stacking Classifier Accuracy: {accuracy:.4f}\")\n",
        "print(f\"Stacking Classifier Precision: {precision:.4f}\")\n",
        "print(f\"Stacking Classifier Recall: {recall:.4f}\")\n",
        "print(f\"Stacking Classifier F1 Score: {f1:.4f}\")\n",
        "\n",
        "# Confusion Matrix\n",
        "cm = confusion_matrix(y_test, y_pred)\n",
        "sns.set(rc={\"figure.figsize\": (4, 3)})\n",
        "sns.heatmap(cm, annot=True, cmap='Blues', fmt='d')\n"
      ],
      "metadata": {
        "colab": {
          "base_uri": "https://localhost:8080/",
          "height": 383
        },
        "id": "bVQpDVUQFQGP",
        "outputId": "652aecaa-fab3-4fd0-ce41-100583ced5eb"
      },
      "execution_count": 51,
      "outputs": [
        {
          "output_type": "stream",
          "name": "stdout",
          "text": [
            "Stacking Classifier Accuracy: 0.9500\n",
            "Stacking Classifier Precision: 0.9507\n",
            "Stacking Classifier Recall: 0.9502\n",
            "Stacking Classifier F1 Score: 0.9499\n"
          ]
        },
        {
          "output_type": "execute_result",
          "data": {
            "text/plain": [
              "<Axes: >"
            ]
          },
          "metadata": {},
          "execution_count": 51
        },
        {
          "output_type": "display_data",
          "data": {
            "text/plain": [
              "<Figure size 400x300 with 2 Axes>"
            ],
            "image/png": "[encoded data removed]"
          },
          "metadata": {}
        }
      ]
    },
    {
      "cell_type": "code",
      "source": [
        "#PREDICTING CELL:\n",
        "# Create a dictionary with the unseen data\n",
        "unseen_data ={'Jitter(%)': [0.010674], 'Jitter(Abs)': [5e-05], 'Jitter(RAP)': [0.006151], 'Jitter(PPQ5)': [0.005437], 'Jitter:DDP': [0.018452], 'Shimmer(local)': [0.078099], 'Shimmer(dB)': [0.799478], 'Shimmer(APQ3)': [0.036303], 'Shimmer(APQ5)': [0.036699], 'Shimmer(APQ11)': [0.066918], 'Shimmer(DDA)': [0.108908]}\n",
        "\n",
        "# Convert the dictionary to a DataFrame\n",
        "unseen_df = pd.DataFrame(unseen_data)\n",
        "\n",
        "# Scale the features using the same scaler used for training\n",
        "unseen_scaled = scaler.transform(unseen_df)\n",
        "\n",
        "# Make prediction using the trained XGBoost model\n",
        "prediction = stacking_clf6.predict(unseen_scaled)\n",
        "\n",
        "# Get prediction probabilities\n",
        "probabilities = stacking_clf6.predict_proba(unseen_scaled) # Changed to predict_proba\n",
        "\n",
        "# Print the results\n",
        "print(\"Predicted Class:\", prediction[0])\n",
        "print(\"Probability for Class 0:\", probabilities[0][0])\n",
        "print(\"Probability for Class 1:\", probabilities[0][1])\n",
        "\n",
        "# Interpretation\n",
        "if prediction[0] == 0:\n",
        "    print(\"Interpretation: The model predicts this is NOT a Parkinson's case\")\n",
        "else:\n",
        "    print(\"Interpretation: The model predicts this IS a Parkinson's case\")"
      ],
      "metadata": {
        "colab": {
          "base_uri": "https://localhost:8080/"
        },
        "id": "cA5euBUSDgqx",
        "outputId": "7524a809-4bde-4122-d1fa-afdaec30e255"
      },
      "execution_count": 55,
      "outputs": [
        {
          "output_type": "stream",
          "name": "stdout",
          "text": [
            "Predicted Class: 1\n",
            "Probability for Class 0: 0.2732967447129344\n",
            "Probability for Class 1: 0.7267032552870656\n",
            "Interpretation: The model predicts this IS a Parkinson's case\n"
          ]
        }
      ]
    },
    {
      "cell_type": "code",
      "source": [],
      "metadata": {
        "id": "r_h_pG3ALJ-g"
      },
      "execution_count": null,
      "outputs": []
    },
    {
      "cell_type": "code",
      "source": [
        "import joblib\n",
        "joblib.dump(model, 'model.pkl')"
      ],
      "metadata": {
        "colab": {
          "base_uri": "https://localhost:8080/"
        },
        "id": "wCvcK3gF0RfU",
        "outputId": "88b63bb8-3cb3-4da1-e1fe-90e7d304b6bb"
      },
      "execution_count": 46,
      "outputs": [
        {
          "output_type": "execute_result",
          "data": {
            "text/plain": [
              "['model.pkl']"
            ]
          },
          "metadata": {},
          "execution_count": 46
        }
      ]
    },
    {
      "cell_type": "code",
      "source": [],
      "metadata": {
        "id": "Fz6OQkGP2ije"
      },
      "execution_count": null,
      "outputs": []
    }
  ]
}